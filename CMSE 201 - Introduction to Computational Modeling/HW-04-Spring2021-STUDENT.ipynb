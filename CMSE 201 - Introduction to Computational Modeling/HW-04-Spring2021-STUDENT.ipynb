{
 "cells": [
  {
   "cell_type": "markdown",
   "metadata": {
    "id": "ub1zQwFBzXto"
   },
   "source": [
    "### <p style=\"text-align: right;\"> &#9989; Elizabeth Walter</p>"
   ]
  },
  {
   "cell_type": "markdown",
   "metadata": {
    "id": "8mvK6SgNp-7m"
   },
   "source": [
    "# __CMSE  201 &ndash; Spring 2021__\n",
    "\n",
    "<img src=\"https://cmse.msu.edu/sites/_cmse/assets/Image/image002.jpg\"\n",
    "     alt=\"CMSE Logo\"\n",
    "     align=\"right\" \n",
    "     height=\"100\" \n",
    "     width=\"100\" />\n",
    "     \n",
    "# Homework 4: Fitting data using NumPy and SciPy"
   ]
  },
  {
   "cell_type": "markdown",
   "metadata": {
    "id": "D3qheg9kzLqE"
   },
   "source": [
    "## Goals\n",
    "\n",
    "### By the end of the homework assignment you will have practiced:\n",
    "\n",
    "1. Loading in data\n",
    "2. Polynomial fitting using NumPy\n",
    "3. Fitting curves using SciPy\n",
    "4. Plotting data and the correspoding best-fit results\n",
    "5. Calculating residuals when fitting a models to data"
   ]
  },
  {
   "cell_type": "markdown",
   "metadata": {
    "id": "qR5VB6bxzLqF"
   },
   "source": [
    "## Assignment instructions\n",
    "\n",
    "Work through the following assignment, making sure to follow all of the directions and answer all of the questions.\n",
    "\n",
    "**This assignment is due at 11:59pm on Friday, March 26.** \n",
    "\n",
    "It should be uploaded to D2L in the approach \"Homework\" submission folder.  Submission instructions can be found at the end of the notebook as well."
   ]
  },
  {
   "cell_type": "markdown",
   "metadata": {},
   "source": [
    "## Grading\n",
    "\n",
    "- Academic Integrity (1 pt)\n",
    "- Part 1 (20 pts)\n",
    "- Part 2 (24 pts)\n",
    "\n",
    "**Total:** 45 pts\n"
   ]
  },
  {
   "cell_type": "markdown",
   "metadata": {},
   "source": [
    "---\n",
    "# Academic integrity statement (1 point)\n",
    "\n",
    "In the markdown cell below, put your personal academic integrity statement (composed during the Day04 In-Class Assignment). By including this statement, you are confirming that the work you submit in the assignment is wholly your own.  "
   ]
  },
  {
   "cell_type": "markdown",
   "metadata": {},
   "source": [
    "<font size=6 color=\"#009600\">&#9998;</font> I, __Elizabeth Walter__, value honesty, fairness, integrity, and equity above little else. I expect these things from myself and my community, and cheating, along with other unethical behavior, is incompatible with such values. I commit to being fair and honest by completing all my assignments myself and citing sources when I receive help. I am aware of and will abide by the MSU ethical standards for integrity."
   ]
  },
  {
   "cell_type": "markdown",
   "metadata": {},
   "source": [
    "---\n",
    "## Part 1: Fitting Piece-wise Linear Functions to Data\n",
    "In this problem, we will look at fitting more unusual functions to data.\n",
    "\n",
    "### &#9989;&nbsp; Question 1.1: Setting up your Python modules (3 points)\n",
    "\n",
    "In this homework, you will be mainly using Matplotlib, Pandas, NumPy, and SciPy's `curve_fit` function. Make sure to include all of the important `import` comments here."
   ]
  },
  {
   "cell_type": "code",
   "execution_count": 28,
   "metadata": {},
   "outputs": [],
   "source": [
    "import pandas as pd\n",
    "import numpy as np\n",
    "import matplotlib.pyplot as plt\n",
    "%matplotlib inline\n",
    "from scipy.optimize import curve_fit"
   ]
  },
  {
   "cell_type": "markdown",
   "metadata": {},
   "source": [
    "### &#9989;&nbsp; Question 1.2: Generate and Plot Data (4 points)\n",
    "\n",
    "Consider a function $y=f(x)$ such that $f(x) = 2x$ for $0 \\leq x \\leq 0.5$ and $f(x)=2-2x$ for $0.5 \\leq x \\leq 1$. Plot this function over 200 equispaced points ($x$) in the range of $x = $ 0 to 1 (end points included). Then, generate a noisy version of this function by adding Gaussian noise with mean zero and standard deviation 0.2 to all of the $y$ values from this function. Essentially, make $y_{noisy} = f(x) \\, + $ Gaussian($x$). Plot the noisy data (versus $x$ values) in a new plot. Label all axes on the plots."
   ]
  },
  {
   "cell_type": "code",
   "execution_count": 29,
   "metadata": {},
   "outputs": [
    {
     "data": {
      "image/png": "[encoded data removed]",
      "text/plain": [
       "<Figure size 576x288 with 1 Axes>"
      ]
     },
     "metadata": {
      "needs_background": "light"
     },
     "output_type": "display_data"
    },
    {
     "data": {
      "image/png": "[encoded data removed]",
      "text/plain": [
       "<Figure size 576x288 with 1 Axes>"
      ]
     },
     "metadata": {
      "needs_background": "light"
     },
     "output_type": "display_data"
    }
   ],
   "source": [
    "# create function to create y/f(x)\n",
    "# gaussian/noise from https://numpy.org/doc/stable/reference/random/generated/numpy.random.normal.html & day 12\n",
    "\n",
    "x = np.linspace(0,1,200)\n",
    "\n",
    "y = np.array([])\n",
    "noise = np.random.normal(0,0.2,len(x))\n",
    "\n",
    "for i in x:\n",
    "    if i >= 0 and i <= 0.5:\n",
    "        fx = 2*i\n",
    "    else:\n",
    "        fx = 2 - 2*i\n",
    "    y = np.append(y, fx)    \n",
    "\n",
    "ynoisy = y + noise\n",
    "\n",
    "plt.figure(figsize=(8,4))\n",
    "plt.scatter(x, y)  \n",
    "plt.ylabel('y')\n",
    "plt.xlabel('x')\n",
    "plt.title('y Data vs x')\n",
    "plt.grid()\n",
    "plt.show()\n",
    "\n",
    "plt.figure(figsize=(8,4))\n",
    "plt.scatter(x, ynoisy)  \n",
    "plt.ylabel('y(noisy)')\n",
    "plt.xlabel('x')\n",
    "plt.title('Noisy Data vs x')\n",
    "plt.grid()\n",
    "plt.show()"
   ]
  },
  {
   "cell_type": "markdown",
   "metadata": {},
   "source": [
    "---\n",
    "### &#9989;&nbsp; Question 1.3: Polynomial Fitting (5 points)\n",
    "\n",
    "How would you use NumPy's `polyfit` function to fit a model like $f(x)$ (i.e., polynomial in two pieces) to the corrupted or noisy data? Explain your approach. Use only first order polynomials for this. Print all the fitted model parameters. Then use `poly1d` to help **plot the data together with the best fit model**. Include a legend to make it clear what information represents the data and what information represents the best fit. *Hint: More than one type of polynomial may offer a good fit to this type of data.*"
   ]
  },
  {
   "cell_type": "markdown",
   "metadata": {},
   "source": [
    "<font size=+3>&#9998;</font> \n",
    "* Need to do polyfit in 2 parts, for x > .5 and x < .5\n",
    "* Then do poly1d for 2 parts and plot together"
   ]
  },
  {
   "cell_type": "code",
   "execution_count": 30,
   "metadata": {},
   "outputs": [
    {
     "name": "stdout",
     "output_type": "stream",
     "text": [
      "parameters for x < 0.5: [ 2.10872343 -0.06342644]\n",
      "parameters for x > 0.5: [-1.84018288  1.90796126]\n"
     ]
    },
    {
     "data": {
      "image/png": "[encoded data removed]",
      "text/plain": [
       "<Figure size 576x288 with 1 Axes>"
      ]
     },
     "metadata": {
      "needs_background": "light"
     },
     "output_type": "display_data"
    }
   ],
   "source": [
    "x1 = x[x < 0.5]\n",
    "x2 = x[x > 0.5]\n",
    "ynoisy1 = ynoisy[x < 0.5]\n",
    "ynoisy2 = ynoisy[x > 0.5]\n",
    "\n",
    "parameters1 = np.polyfit(x1, ynoisy1, 1)\n",
    "parameters2 = np.polyfit(x2, ynoisy2, 1)\n",
    "\n",
    "print('parameters for x < 0.5:', parameters1)\n",
    "print('parameters for x > 0.5:', parameters2)\n",
    "\n",
    "function1 = np.poly1d(parameters1)\n",
    "function2 = np.poly1d(parameters2)\n",
    "\n",
    "expected1 = function1(x1)\n",
    "expected2 = function2(x2)\n",
    "\n",
    "plt.figure(figsize=(8,4))\n",
    "plt.plot(x1, expected1)\n",
    "plt.plot(x2, expected2)\n",
    "plt.grid()\n",
    "plt.show()"
   ]
  },
  {
   "cell_type": "markdown",
   "metadata": {},
   "source": [
    "---\n",
    "### &#9989;&nbsp; Question 1.4: Using Curve Fit for the data (7 points)\n",
    "\n",
    "Write a function called `fitting_function` that takes the following arguments: $x$, $m_1$, $b_1$, $m_2$, $b_2$, where $x$ is a NumPy array and the rest are all floating point parameter values corresponding to the slopes of the lines/pieces and their intercepts. The function should return an array with values $f(x) = m_1*x + b_1$ when $0 \\leq x \\leq 0.5$ and $f(x) = m_2*x + b_2$ where $0.5 \\leq x \\leq 1$.\n",
    "\n",
    "Use SciPy's `curve_fit` function to find the best fit model parameters for the corrupted data using your `fitting_function`. **Plot the data and the best fit. Label all axes and include a legend. Also print the resulting parameters.**"
   ]
  },
  {
   "cell_type": "code",
   "execution_count": 31,
   "metadata": {},
   "outputs": [
    {
     "name": "stdout",
     "output_type": "stream",
     "text": [
      "200\n",
      "200\n",
      "201\n"
     ]
    },
    {
     "ename": "ValueError",
     "evalue": "operands could not be broadcast together with shapes (201,) (200,) ",
     "output_type": "error",
     "traceback": [
      "\u001b[1;31m---------------------------------------------------------------------------\u001b[0m",
      "\u001b[1;31mValueError\u001b[0m                                Traceback (most recent call last)",
      "\u001b[1;32m<ipython-input-31-ee3f498700ab>\u001b[0m in \u001b[0;36m<module>\u001b[1;34m\u001b[0m\n\u001b[0;32m     13\u001b[0m     \u001b[1;32mreturn\u001b[0m \u001b[0mycurve\u001b[0m\u001b[1;33m\u001b[0m\u001b[1;33m\u001b[0m\u001b[0m\n\u001b[0;32m     14\u001b[0m \u001b[1;33m\u001b[0m\u001b[0m\n\u001b[1;32m---> 15\u001b[1;33m \u001b[0mpopt\u001b[0m\u001b[1;33m,\u001b[0m \u001b[0mpcov\u001b[0m \u001b[1;33m=\u001b[0m \u001b[0mcurve_fit\u001b[0m\u001b[1;33m(\u001b[0m\u001b[0mfitting_function\u001b[0m\u001b[1;33m,\u001b[0m \u001b[0mx\u001b[0m\u001b[1;33m,\u001b[0m \u001b[0mynoisy\u001b[0m\u001b[1;33m)\u001b[0m\u001b[1;33m\u001b[0m\u001b[1;33m\u001b[0m\u001b[0m\n\u001b[0m\u001b[0;32m     16\u001b[0m \u001b[0mynoisy_fit\u001b[0m \u001b[1;33m=\u001b[0m \u001b[0mfitting_function\u001b[0m\u001b[1;33m(\u001b[0m\u001b[0mx\u001b[0m\u001b[1;33m,\u001b[0m \u001b[0mpopt\u001b[0m\u001b[1;33m[\u001b[0m\u001b[1;36m0\u001b[0m\u001b[1;33m]\u001b[0m\u001b[1;33m,\u001b[0m \u001b[0mpopt\u001b[0m\u001b[1;33m[\u001b[0m\u001b[1;36m1\u001b[0m\u001b[1;33m]\u001b[0m\u001b[1;33m,\u001b[0m \u001b[0mpopt\u001b[0m\u001b[1;33m[\u001b[0m\u001b[1;36m2\u001b[0m\u001b[1;33m]\u001b[0m\u001b[1;33m,\u001b[0m \u001b[0mpopt\u001b[0m\u001b[1;33m[\u001b[0m\u001b[1;36m3\u001b[0m\u001b[1;33m]\u001b[0m\u001b[1;33m)\u001b[0m\u001b[1;33m\u001b[0m\u001b[1;33m\u001b[0m\u001b[0m\n\u001b[0;32m     17\u001b[0m \u001b[1;33m\u001b[0m\u001b[0m\n",
      "\u001b[1;32m~\\anaconda3\\lib\\site-packages\\scipy\\optimize\\minpack.py\u001b[0m in \u001b[0;36mcurve_fit\u001b[1;34m(f, xdata, ydata, p0, sigma, absolute_sigma, check_finite, bounds, method, jac, **kwargs)\u001b[0m\n\u001b[0;32m    782\u001b[0m         \u001b[1;31m# Remove full_output from kwargs, otherwise we're passing it in twice.\u001b[0m\u001b[1;33m\u001b[0m\u001b[1;33m\u001b[0m\u001b[1;33m\u001b[0m\u001b[0m\n\u001b[0;32m    783\u001b[0m         \u001b[0mreturn_full\u001b[0m \u001b[1;33m=\u001b[0m \u001b[0mkwargs\u001b[0m\u001b[1;33m.\u001b[0m\u001b[0mpop\u001b[0m\u001b[1;33m(\u001b[0m\u001b[1;34m'full_output'\u001b[0m\u001b[1;33m,\u001b[0m \u001b[1;32mFalse\u001b[0m\u001b[1;33m)\u001b[0m\u001b[1;33m\u001b[0m\u001b[1;33m\u001b[0m\u001b[0m\n\u001b[1;32m--> 784\u001b[1;33m         \u001b[0mres\u001b[0m \u001b[1;33m=\u001b[0m \u001b[0mleastsq\u001b[0m\u001b[1;33m(\u001b[0m\u001b[0mfunc\u001b[0m\u001b[1;33m,\u001b[0m \u001b[0mp0\u001b[0m\u001b[1;33m,\u001b[0m \u001b[0mDfun\u001b[0m\u001b[1;33m=\u001b[0m\u001b[0mjac\u001b[0m\u001b[1;33m,\u001b[0m \u001b[0mfull_output\u001b[0m\u001b[1;33m=\u001b[0m\u001b[1;36m1\u001b[0m\u001b[1;33m,\u001b[0m \u001b[1;33m**\u001b[0m\u001b[0mkwargs\u001b[0m\u001b[1;33m)\u001b[0m\u001b[1;33m\u001b[0m\u001b[1;33m\u001b[0m\u001b[0m\n\u001b[0m\u001b[0;32m    785\u001b[0m         \u001b[0mpopt\u001b[0m\u001b[1;33m,\u001b[0m \u001b[0mpcov\u001b[0m\u001b[1;33m,\u001b[0m \u001b[0minfodict\u001b[0m\u001b[1;33m,\u001b[0m \u001b[0merrmsg\u001b[0m\u001b[1;33m,\u001b[0m \u001b[0mier\u001b[0m \u001b[1;33m=\u001b[0m \u001b[0mres\u001b[0m\u001b[1;33m\u001b[0m\u001b[1;33m\u001b[0m\u001b[0m\n\u001b[0;32m    786\u001b[0m         \u001b[0mysize\u001b[0m \u001b[1;33m=\u001b[0m \u001b[0mlen\u001b[0m\u001b[1;33m(\u001b[0m\u001b[0minfodict\u001b[0m\u001b[1;33m[\u001b[0m\u001b[1;34m'fvec'\u001b[0m\u001b[1;33m]\u001b[0m\u001b[1;33m)\u001b[0m\u001b[1;33m\u001b[0m\u001b[1;33m\u001b[0m\u001b[0m\n",
      "\u001b[1;32m~\\anaconda3\\lib\\site-packages\\scipy\\optimize\\minpack.py\u001b[0m in \u001b[0;36mleastsq\u001b[1;34m(func, x0, args, Dfun, full_output, col_deriv, ftol, xtol, gtol, maxfev, epsfcn, factor, diag)\u001b[0m\n\u001b[0;32m    408\u001b[0m     \u001b[1;32mif\u001b[0m \u001b[1;32mnot\u001b[0m \u001b[0misinstance\u001b[0m\u001b[1;33m(\u001b[0m\u001b[0margs\u001b[0m\u001b[1;33m,\u001b[0m \u001b[0mtuple\u001b[0m\u001b[1;33m)\u001b[0m\u001b[1;33m:\u001b[0m\u001b[1;33m\u001b[0m\u001b[1;33m\u001b[0m\u001b[0m\n\u001b[0;32m    409\u001b[0m         \u001b[0margs\u001b[0m \u001b[1;33m=\u001b[0m \u001b[1;33m(\u001b[0m\u001b[0margs\u001b[0m\u001b[1;33m,\u001b[0m\u001b[1;33m)\u001b[0m\u001b[1;33m\u001b[0m\u001b[1;33m\u001b[0m\u001b[0m\n\u001b[1;32m--> 410\u001b[1;33m     \u001b[0mshape\u001b[0m\u001b[1;33m,\u001b[0m \u001b[0mdtype\u001b[0m \u001b[1;33m=\u001b[0m \u001b[0m_check_func\u001b[0m\u001b[1;33m(\u001b[0m\u001b[1;34m'leastsq'\u001b[0m\u001b[1;33m,\u001b[0m \u001b[1;34m'func'\u001b[0m\u001b[1;33m,\u001b[0m \u001b[0mfunc\u001b[0m\u001b[1;33m,\u001b[0m \u001b[0mx0\u001b[0m\u001b[1;33m,\u001b[0m \u001b[0margs\u001b[0m\u001b[1;33m,\u001b[0m \u001b[0mn\u001b[0m\u001b[1;33m)\u001b[0m\u001b[1;33m\u001b[0m\u001b[1;33m\u001b[0m\u001b[0m\n\u001b[0m\u001b[0;32m    411\u001b[0m     \u001b[0mm\u001b[0m \u001b[1;33m=\u001b[0m \u001b[0mshape\u001b[0m\u001b[1;33m[\u001b[0m\u001b[1;36m0\u001b[0m\u001b[1;33m]\u001b[0m\u001b[1;33m\u001b[0m\u001b[1;33m\u001b[0m\u001b[0m\n\u001b[0;32m    412\u001b[0m \u001b[1;33m\u001b[0m\u001b[0m\n",
      "\u001b[1;32m~\\anaconda3\\lib\\site-packages\\scipy\\optimize\\minpack.py\u001b[0m in \u001b[0;36m_check_func\u001b[1;34m(checker, argname, thefunc, x0, args, numinputs, output_shape)\u001b[0m\n\u001b[0;32m     22\u001b[0m def _check_func(checker, argname, thefunc, x0, args, numinputs,\n\u001b[0;32m     23\u001b[0m                 output_shape=None):\n\u001b[1;32m---> 24\u001b[1;33m     \u001b[0mres\u001b[0m \u001b[1;33m=\u001b[0m \u001b[0matleast_1d\u001b[0m\u001b[1;33m(\u001b[0m\u001b[0mthefunc\u001b[0m\u001b[1;33m(\u001b[0m\u001b[1;33m*\u001b[0m\u001b[1;33m(\u001b[0m\u001b[1;33m(\u001b[0m\u001b[0mx0\u001b[0m\u001b[1;33m[\u001b[0m\u001b[1;33m:\u001b[0m\u001b[0mnuminputs\u001b[0m\u001b[1;33m]\u001b[0m\u001b[1;33m,\u001b[0m\u001b[1;33m)\u001b[0m \u001b[1;33m+\u001b[0m \u001b[0margs\u001b[0m\u001b[1;33m)\u001b[0m\u001b[1;33m)\u001b[0m\u001b[1;33m)\u001b[0m\u001b[1;33m\u001b[0m\u001b[1;33m\u001b[0m\u001b[0m\n\u001b[0m\u001b[0;32m     25\u001b[0m     \u001b[1;32mif\u001b[0m \u001b[1;33m(\u001b[0m\u001b[0moutput_shape\u001b[0m \u001b[1;32mis\u001b[0m \u001b[1;32mnot\u001b[0m \u001b[1;32mNone\u001b[0m\u001b[1;33m)\u001b[0m \u001b[1;32mand\u001b[0m \u001b[1;33m(\u001b[0m\u001b[0mshape\u001b[0m\u001b[1;33m(\u001b[0m\u001b[0mres\u001b[0m\u001b[1;33m)\u001b[0m \u001b[1;33m!=\u001b[0m \u001b[0moutput_shape\u001b[0m\u001b[1;33m)\u001b[0m\u001b[1;33m:\u001b[0m\u001b[1;33m\u001b[0m\u001b[1;33m\u001b[0m\u001b[0m\n\u001b[0;32m     26\u001b[0m         \u001b[1;32mif\u001b[0m \u001b[1;33m(\u001b[0m\u001b[0moutput_shape\u001b[0m\u001b[1;33m[\u001b[0m\u001b[1;36m0\u001b[0m\u001b[1;33m]\u001b[0m \u001b[1;33m!=\u001b[0m \u001b[1;36m1\u001b[0m\u001b[1;33m)\u001b[0m\u001b[1;33m:\u001b[0m\u001b[1;33m\u001b[0m\u001b[1;33m\u001b[0m\u001b[0m\n",
      "\u001b[1;32m~\\anaconda3\\lib\\site-packages\\scipy\\optimize\\minpack.py\u001b[0m in \u001b[0;36mfunc_wrapped\u001b[1;34m(params)\u001b[0m\n\u001b[0;32m    482\u001b[0m     \u001b[1;32mif\u001b[0m \u001b[0mtransform\u001b[0m \u001b[1;32mis\u001b[0m \u001b[1;32mNone\u001b[0m\u001b[1;33m:\u001b[0m\u001b[1;33m\u001b[0m\u001b[1;33m\u001b[0m\u001b[0m\n\u001b[0;32m    483\u001b[0m         \u001b[1;32mdef\u001b[0m \u001b[0mfunc_wrapped\u001b[0m\u001b[1;33m(\u001b[0m\u001b[0mparams\u001b[0m\u001b[1;33m)\u001b[0m\u001b[1;33m:\u001b[0m\u001b[1;33m\u001b[0m\u001b[1;33m\u001b[0m\u001b[0m\n\u001b[1;32m--> 484\u001b[1;33m             \u001b[1;32mreturn\u001b[0m \u001b[0mfunc\u001b[0m\u001b[1;33m(\u001b[0m\u001b[0mxdata\u001b[0m\u001b[1;33m,\u001b[0m \u001b[1;33m*\u001b[0m\u001b[0mparams\u001b[0m\u001b[1;33m)\u001b[0m \u001b[1;33m-\u001b[0m \u001b[0mydata\u001b[0m\u001b[1;33m\u001b[0m\u001b[1;33m\u001b[0m\u001b[0m\n\u001b[0m\u001b[0;32m    485\u001b[0m     \u001b[1;32melif\u001b[0m \u001b[0mtransform\u001b[0m\u001b[1;33m.\u001b[0m\u001b[0mndim\u001b[0m \u001b[1;33m==\u001b[0m \u001b[1;36m1\u001b[0m\u001b[1;33m:\u001b[0m\u001b[1;33m\u001b[0m\u001b[1;33m\u001b[0m\u001b[0m\n\u001b[0;32m    486\u001b[0m         \u001b[1;32mdef\u001b[0m \u001b[0mfunc_wrapped\u001b[0m\u001b[1;33m(\u001b[0m\u001b[0mparams\u001b[0m\u001b[1;33m)\u001b[0m\u001b[1;33m:\u001b[0m\u001b[1;33m\u001b[0m\u001b[1;33m\u001b[0m\u001b[0m\n",
      "\u001b[1;31mValueError\u001b[0m: operands could not be broadcast together with shapes (201,) (200,) "
     ]
    }
   ],
   "source": [
    "print(len(x)) #cannot figure out why both of these are len 200 but ycurve has a len of 201\n",
    "print(len(ynoisy))\n",
    "\n",
    "def fitting_function(x,m1,b1,m2,b2):\n",
    "    ycurve = np.array([])\n",
    "    for i in x < 0.5:\n",
    "        ycurve1 = m1 * (i + b1)\n",
    "        ycurve = np.append(ycurve, ycurve1)\n",
    "    else:\n",
    "        ycurve2 = m2 * (i + b2)\n",
    "        ycurve = np.append(ycurve, ycurve2)\n",
    "    print(len(ycurve))\n",
    "    return ycurve\n",
    "\n",
    "popt, pcov = curve_fit(fitting_function, x, ynoisy)\n",
    "ynoisy_fit = fitting_function(x, popt[0], popt[1], popt[2], popt[3])\n",
    "\n",
    "print('m1:', popt[0])\n",
    "print('b1:', popt[1])\n",
    "print('m2:', popt[2])\n",
    "print('b2:', popt[3])\n",
    "\n",
    "plt.scatter(x,y)\n",
    "plt.plot(x, ynoisy_fit, label='fitted model')\n",
    "plt.xlabel('x')\n",
    "plt.ylabel('Noisy Data')\n",
    "plt.legend()\n",
    "plt.show()"
   ]
  },
  {
   "cell_type": "markdown",
   "metadata": {},
   "source": [
    "---\n",
    "### &#9989;&nbsp; Question 1.5: How good are the estimates? (1 point)\n",
    "Comment on how close the parameter estimates in Questions 1.3 and 1.4 are to the values used to generate the data.\n"
   ]
  },
  {
   "cell_type": "markdown",
   "metadata": {},
   "source": [
    "<font size=+3>&#9998;</font> * The parameter estimates from 1.3 are slightly off but not too far off."
   ]
  },
  {
   "cell_type": "markdown",
   "metadata": {},
   "source": [
    "---\n",
    "## Part 2: Fitting Models to Real Data\n",
    "In this problem, we will look at fitting models to real weather data. The data is available at [Fivethirtyeight.](https://github.com/fivethirtyeight/data/tree/master/us-weather-history) Download and check out the file `KMDW.csv` from D2L. You will use your model-fitting skills to see if you can find a good mathematical model for how the data behaves. \n",
    "\n",
    "### &#9989;&nbsp; Question 2.1: Reading and inspecting the data (3 points)\n",
    "\n",
    "Read in the data in `KMDW.csv` using Pandas. Print out a few rows of the data as well as the summary statistics of the data (mean, standard deviation, etc.) to get a sense of the data."
   ]
  },
  {
   "cell_type": "code",
   "execution_count": 32,
   "metadata": {},
   "outputs": [
    {
     "data": {
      "text/html": [
       "<div>\n",
       "<style scoped>\n",
       "    .dataframe tbody tr th:only-of-type {\n",
       "        vertical-align: middle;\n",
       "    }\n",
       "\n",
       "    .dataframe tbody tr th {\n",
       "        vertical-align: top;\n",
       "    }\n",
       "\n",
       "    .dataframe thead th {\n",
       "        text-align: right;\n",
       "    }\n",
       "</style>\n",
       "<table border=\"1\" class=\"dataframe\">\n",
       "  <thead>\n",
       "    <tr style=\"text-align: right;\">\n",
       "      <th></th>\n",
       "      <th>date</th>\n",
       "      <th>actual_mean_temp</th>\n",
       "      <th>actual_min_temp</th>\n",
       "      <th>actual_max_temp</th>\n",
       "      <th>average_min_temp</th>\n",
       "      <th>average_max_temp</th>\n",
       "      <th>record_min_temp</th>\n",
       "      <th>record_max_temp</th>\n",
       "      <th>record_min_temp_year</th>\n",
       "      <th>record_max_temp_year</th>\n",
       "      <th>actual_precipitation</th>\n",
       "      <th>average_precipitation</th>\n",
       "      <th>record_precipitation</th>\n",
       "    </tr>\n",
       "  </thead>\n",
       "  <tbody>\n",
       "    <tr>\n",
       "      <th>0</th>\n",
       "      <td>2014-7-1</td>\n",
       "      <td>76</td>\n",
       "      <td>68</td>\n",
       "      <td>84</td>\n",
       "      <td>67</td>\n",
       "      <td>84</td>\n",
       "      <td>49</td>\n",
       "      <td>103</td>\n",
       "      <td>1982.0</td>\n",
       "      <td>1956.0</td>\n",
       "      <td>0.04</td>\n",
       "      <td>0.11</td>\n",
       "      <td>1.23</td>\n",
       "    </tr>\n",
       "    <tr>\n",
       "      <th>1</th>\n",
       "      <td>2014-7-2</td>\n",
       "      <td>66</td>\n",
       "      <td>58</td>\n",
       "      <td>74</td>\n",
       "      <td>67</td>\n",
       "      <td>84</td>\n",
       "      <td>48</td>\n",
       "      <td>99</td>\n",
       "      <td>1930.0</td>\n",
       "      <td>1970.0</td>\n",
       "      <td>0.12</td>\n",
       "      <td>0.10</td>\n",
       "      <td>2.50</td>\n",
       "    </tr>\n",
       "    <tr>\n",
       "      <th>2</th>\n",
       "      <td>2014-7-3</td>\n",
       "      <td>66</td>\n",
       "      <td>57</td>\n",
       "      <td>75</td>\n",
       "      <td>67</td>\n",
       "      <td>84</td>\n",
       "      <td>50</td>\n",
       "      <td>102</td>\n",
       "      <td>1940.0</td>\n",
       "      <td>1949.0</td>\n",
       "      <td>0.05</td>\n",
       "      <td>0.11</td>\n",
       "      <td>1.38</td>\n",
       "    </tr>\n",
       "    <tr>\n",
       "      <th>3</th>\n",
       "      <td>2014-7-4</td>\n",
       "      <td>70</td>\n",
       "      <td>60</td>\n",
       "      <td>79</td>\n",
       "      <td>67</td>\n",
       "      <td>84</td>\n",
       "      <td>49</td>\n",
       "      <td>101</td>\n",
       "      <td>1940.0</td>\n",
       "      <td>2012.0</td>\n",
       "      <td>0.00</td>\n",
       "      <td>0.11</td>\n",
       "      <td>0.94</td>\n",
       "    </tr>\n",
       "    <tr>\n",
       "      <th>4</th>\n",
       "      <td>2014-7-5</td>\n",
       "      <td>71</td>\n",
       "      <td>63</td>\n",
       "      <td>79</td>\n",
       "      <td>67</td>\n",
       "      <td>84</td>\n",
       "      <td>46</td>\n",
       "      <td>103</td>\n",
       "      <td>1972.0</td>\n",
       "      <td>2012.0</td>\n",
       "      <td>0.01</td>\n",
       "      <td>0.13</td>\n",
       "      <td>1.18</td>\n",
       "    </tr>\n",
       "  </tbody>\n",
       "</table>\n",
       "</div>"
      ],
      "text/plain": [
       "       date  actual_mean_temp  actual_min_temp  actual_max_temp  \\\n",
       "0  2014-7-1                76               68               84   \n",
       "1  2014-7-2                66               58               74   \n",
       "2  2014-7-3                66               57               75   \n",
       "3  2014-7-4                70               60               79   \n",
       "4  2014-7-5                71               63               79   \n",
       "\n",
       "   average_min_temp  average_max_temp  record_min_temp  record_max_temp  \\\n",
       "0                67                84               49              103   \n",
       "1                67                84               48               99   \n",
       "2                67                84               50              102   \n",
       "3                67                84               49              101   \n",
       "4                67                84               46              103   \n",
       "\n",
       "   record_min_temp_year  record_max_temp_year  actual_precipitation  \\\n",
       "0                1982.0                1956.0                  0.04   \n",
       "1                1930.0                1970.0                  0.12   \n",
       "2                1940.0                1949.0                  0.05   \n",
       "3                1940.0                2012.0                  0.00   \n",
       "4                1972.0                2012.0                  0.01   \n",
       "\n",
       "   average_precipitation  record_precipitation  \n",
       "0                   0.11                  1.23  \n",
       "1                   0.10                  2.50  \n",
       "2                   0.11                  1.38  \n",
       "3                   0.11                  0.94  \n",
       "4                   0.13                  1.18  "
      ]
     },
     "execution_count": 32,
     "metadata": {},
     "output_type": "execute_result"
    }
   ],
   "source": [
    "kmdw = pd.read_csv('KMDW.csv')\n",
    "kmdw.head()"
   ]
  },
  {
   "cell_type": "code",
   "execution_count": 33,
   "metadata": {},
   "outputs": [
    {
     "data": {
      "text/html": [
       "<div>\n",
       "<style scoped>\n",
       "    .dataframe tbody tr th:only-of-type {\n",
       "        vertical-align: middle;\n",
       "    }\n",
       "\n",
       "    .dataframe tbody tr th {\n",
       "        vertical-align: top;\n",
       "    }\n",
       "\n",
       "    .dataframe thead th {\n",
       "        text-align: right;\n",
       "    }\n",
       "</style>\n",
       "<table border=\"1\" class=\"dataframe\">\n",
       "  <thead>\n",
       "    <tr style=\"text-align: right;\">\n",
       "      <th></th>\n",
       "      <th>actual_mean_temp</th>\n",
       "      <th>actual_min_temp</th>\n",
       "      <th>actual_max_temp</th>\n",
       "      <th>average_min_temp</th>\n",
       "      <th>average_max_temp</th>\n",
       "      <th>record_min_temp</th>\n",
       "      <th>record_max_temp</th>\n",
       "      <th>record_min_temp_year</th>\n",
       "      <th>record_max_temp_year</th>\n",
       "      <th>actual_precipitation</th>\n",
       "      <th>average_precipitation</th>\n",
       "      <th>record_precipitation</th>\n",
       "    </tr>\n",
       "  </thead>\n",
       "  <tbody>\n",
       "    <tr>\n",
       "      <th>count</th>\n",
       "      <td>365.000000</td>\n",
       "      <td>365.000000</td>\n",
       "      <td>365.000000</td>\n",
       "      <td>365.000000</td>\n",
       "      <td>365.000000</td>\n",
       "      <td>365.000000</td>\n",
       "      <td>365.000000</td>\n",
       "      <td>364.000000</td>\n",
       "      <td>364.000000</td>\n",
       "      <td>365.000000</td>\n",
       "      <td>365.000000</td>\n",
       "      <td>365.000000</td>\n",
       "    </tr>\n",
       "    <tr>\n",
       "      <th>mean</th>\n",
       "      <td>51.049315</td>\n",
       "      <td>42.882192</td>\n",
       "      <td>58.712329</td>\n",
       "      <td>43.539726</td>\n",
       "      <td>59.471233</td>\n",
       "      <td>21.191781</td>\n",
       "      <td>83.183562</td>\n",
       "      <td>1959.662088</td>\n",
       "      <td>1968.912088</td>\n",
       "      <td>0.098740</td>\n",
       "      <td>0.107096</td>\n",
       "      <td>1.674630</td>\n",
       "    </tr>\n",
       "    <tr>\n",
       "      <th>std</th>\n",
       "      <td>20.352735</td>\n",
       "      <td>19.739925</td>\n",
       "      <td>21.427029</td>\n",
       "      <td>17.299136</td>\n",
       "      <td>18.807071</td>\n",
       "      <td>23.142332</td>\n",
       "      <td>15.615284</td>\n",
       "      <td>22.896788</td>\n",
       "      <td>25.888040</td>\n",
       "      <td>0.323879</td>\n",
       "      <td>0.025329</td>\n",
       "      <td>0.919481</td>\n",
       "    </tr>\n",
       "    <tr>\n",
       "      <th>min</th>\n",
       "      <td>1.000000</td>\n",
       "      <td>-7.000000</td>\n",
       "      <td>7.000000</td>\n",
       "      <td>18.000000</td>\n",
       "      <td>31.000000</td>\n",
       "      <td>-25.000000</td>\n",
       "      <td>51.000000</td>\n",
       "      <td>1873.000000</td>\n",
       "      <td>1928.000000</td>\n",
       "      <td>0.000000</td>\n",
       "      <td>0.050000</td>\n",
       "      <td>0.340000</td>\n",
       "    </tr>\n",
       "    <tr>\n",
       "      <th>25%</th>\n",
       "      <td>35.000000</td>\n",
       "      <td>30.000000</td>\n",
       "      <td>39.000000</td>\n",
       "      <td>27.000000</td>\n",
       "      <td>41.000000</td>\n",
       "      <td>-1.000000</td>\n",
       "      <td>69.000000</td>\n",
       "      <td>1940.000000</td>\n",
       "      <td>1947.000000</td>\n",
       "      <td>0.000000</td>\n",
       "      <td>0.090000</td>\n",
       "      <td>1.080000</td>\n",
       "    </tr>\n",
       "    <tr>\n",
       "      <th>50%</th>\n",
       "      <td>53.000000</td>\n",
       "      <td>44.000000</td>\n",
       "      <td>62.000000</td>\n",
       "      <td>44.000000</td>\n",
       "      <td>61.000000</td>\n",
       "      <td>26.000000</td>\n",
       "      <td>87.000000</td>\n",
       "      <td>1958.000000</td>\n",
       "      <td>1970.000000</td>\n",
       "      <td>0.000000</td>\n",
       "      <td>0.110000</td>\n",
       "      <td>1.410000</td>\n",
       "    </tr>\n",
       "    <tr>\n",
       "      <th>75%</th>\n",
       "      <td>70.000000</td>\n",
       "      <td>60.000000</td>\n",
       "      <td>79.000000</td>\n",
       "      <td>60.000000</td>\n",
       "      <td>78.000000</td>\n",
       "      <td>44.000000</td>\n",
       "      <td>97.000000</td>\n",
       "      <td>1979.250000</td>\n",
       "      <td>1990.000000</td>\n",
       "      <td>0.040000</td>\n",
       "      <td>0.130000</td>\n",
       "      <td>2.050000</td>\n",
       "    </tr>\n",
       "    <tr>\n",
       "      <th>max</th>\n",
       "      <td>83.000000</td>\n",
       "      <td>74.000000</td>\n",
       "      <td>94.000000</td>\n",
       "      <td>68.000000</td>\n",
       "      <td>85.000000</td>\n",
       "      <td>58.000000</td>\n",
       "      <td>109.000000</td>\n",
       "      <td>2015.000000</td>\n",
       "      <td>2014.000000</td>\n",
       "      <td>3.310000</td>\n",
       "      <td>0.150000</td>\n",
       "      <td>6.160000</td>\n",
       "    </tr>\n",
       "  </tbody>\n",
       "</table>\n",
       "</div>"
      ],
      "text/plain": [
       "       actual_mean_temp  actual_min_temp  actual_max_temp  average_min_temp  \\\n",
       "count        365.000000       365.000000       365.000000        365.000000   \n",
       "mean          51.049315        42.882192        58.712329         43.539726   \n",
       "std           20.352735        19.739925        21.427029         17.299136   \n",
       "min            1.000000        -7.000000         7.000000         18.000000   \n",
       "25%           35.000000        30.000000        39.000000         27.000000   \n",
       "50%           53.000000        44.000000        62.000000         44.000000   \n",
       "75%           70.000000        60.000000        79.000000         60.000000   \n",
       "max           83.000000        74.000000        94.000000         68.000000   \n",
       "\n",
       "       average_max_temp  record_min_temp  record_max_temp  \\\n",
       "count        365.000000       365.000000       365.000000   \n",
       "mean          59.471233        21.191781        83.183562   \n",
       "std           18.807071        23.142332        15.615284   \n",
       "min           31.000000       -25.000000        51.000000   \n",
       "25%           41.000000        -1.000000        69.000000   \n",
       "50%           61.000000        26.000000        87.000000   \n",
       "75%           78.000000        44.000000        97.000000   \n",
       "max           85.000000        58.000000       109.000000   \n",
       "\n",
       "       record_min_temp_year  record_max_temp_year  actual_precipitation  \\\n",
       "count            364.000000            364.000000            365.000000   \n",
       "mean            1959.662088           1968.912088              0.098740   \n",
       "std               22.896788             25.888040              0.323879   \n",
       "min             1873.000000           1928.000000              0.000000   \n",
       "25%             1940.000000           1947.000000              0.000000   \n",
       "50%             1958.000000           1970.000000              0.000000   \n",
       "75%             1979.250000           1990.000000              0.040000   \n",
       "max             2015.000000           2014.000000              3.310000   \n",
       "\n",
       "       average_precipitation  record_precipitation  \n",
       "count             365.000000            365.000000  \n",
       "mean                0.107096              1.674630  \n",
       "std                 0.025329              0.919481  \n",
       "min                 0.050000              0.340000  \n",
       "25%                 0.090000              1.080000  \n",
       "50%                 0.110000              1.410000  \n",
       "75%                 0.130000              2.050000  \n",
       "max                 0.150000              6.160000  "
      ]
     },
     "execution_count": 33,
     "metadata": {},
     "output_type": "execute_result"
    }
   ],
   "source": [
    "kmdw.describe()"
   ]
  },
  {
   "cell_type": "markdown",
   "metadata": {},
   "source": [
    "### &#9989;&nbsp; Question 2.2: Convert date format (2 points)\n",
    "\n",
    "The `date` column has the year-month-day format. Convert this to the `ordinal` format so you have a single number associated with each date. Add this as a new column to the dataframe. We will use this as the independent variable for regression."
   ]
  },
  {
   "cell_type": "code",
   "execution_count": 34,
   "metadata": {},
   "outputs": [
    {
     "data": {
      "text/html": [
       "<div>\n",
       "<style scoped>\n",
       "    .dataframe tbody tr th:only-of-type {\n",
       "        vertical-align: middle;\n",
       "    }\n",
       "\n",
       "    .dataframe tbody tr th {\n",
       "        vertical-align: top;\n",
       "    }\n",
       "\n",
       "    .dataframe thead th {\n",
       "        text-align: right;\n",
       "    }\n",
       "</style>\n",
       "<table border=\"1\" class=\"dataframe\">\n",
       "  <thead>\n",
       "    <tr style=\"text-align: right;\">\n",
       "      <th></th>\n",
       "      <th>date</th>\n",
       "      <th>actual_mean_temp</th>\n",
       "      <th>actual_min_temp</th>\n",
       "      <th>actual_max_temp</th>\n",
       "      <th>average_min_temp</th>\n",
       "      <th>average_max_temp</th>\n",
       "      <th>record_min_temp</th>\n",
       "      <th>record_max_temp</th>\n",
       "      <th>record_min_temp_year</th>\n",
       "      <th>record_max_temp_year</th>\n",
       "      <th>actual_precipitation</th>\n",
       "      <th>average_precipitation</th>\n",
       "      <th>record_precipitation</th>\n",
       "      <th>odate</th>\n",
       "    </tr>\n",
       "  </thead>\n",
       "  <tbody>\n",
       "    <tr>\n",
       "      <th>0</th>\n",
       "      <td>2014-7-1</td>\n",
       "      <td>76</td>\n",
       "      <td>68</td>\n",
       "      <td>84</td>\n",
       "      <td>67</td>\n",
       "      <td>84</td>\n",
       "      <td>49</td>\n",
       "      <td>103</td>\n",
       "      <td>1982.0</td>\n",
       "      <td>1956.0</td>\n",
       "      <td>0.04</td>\n",
       "      <td>0.11</td>\n",
       "      <td>1.23</td>\n",
       "      <td>735415</td>\n",
       "    </tr>\n",
       "    <tr>\n",
       "      <th>1</th>\n",
       "      <td>2014-7-2</td>\n",
       "      <td>66</td>\n",
       "      <td>58</td>\n",
       "      <td>74</td>\n",
       "      <td>67</td>\n",
       "      <td>84</td>\n",
       "      <td>48</td>\n",
       "      <td>99</td>\n",
       "      <td>1930.0</td>\n",
       "      <td>1970.0</td>\n",
       "      <td>0.12</td>\n",
       "      <td>0.10</td>\n",
       "      <td>2.50</td>\n",
       "      <td>735416</td>\n",
       "    </tr>\n",
       "    <tr>\n",
       "      <th>2</th>\n",
       "      <td>2014-7-3</td>\n",
       "      <td>66</td>\n",
       "      <td>57</td>\n",
       "      <td>75</td>\n",
       "      <td>67</td>\n",
       "      <td>84</td>\n",
       "      <td>50</td>\n",
       "      <td>102</td>\n",
       "      <td>1940.0</td>\n",
       "      <td>1949.0</td>\n",
       "      <td>0.05</td>\n",
       "      <td>0.11</td>\n",
       "      <td>1.38</td>\n",
       "      <td>735417</td>\n",
       "    </tr>\n",
       "    <tr>\n",
       "      <th>3</th>\n",
       "      <td>2014-7-4</td>\n",
       "      <td>70</td>\n",
       "      <td>60</td>\n",
       "      <td>79</td>\n",
       "      <td>67</td>\n",
       "      <td>84</td>\n",
       "      <td>49</td>\n",
       "      <td>101</td>\n",
       "      <td>1940.0</td>\n",
       "      <td>2012.0</td>\n",
       "      <td>0.00</td>\n",
       "      <td>0.11</td>\n",
       "      <td>0.94</td>\n",
       "      <td>735418</td>\n",
       "    </tr>\n",
       "    <tr>\n",
       "      <th>4</th>\n",
       "      <td>2014-7-5</td>\n",
       "      <td>71</td>\n",
       "      <td>63</td>\n",
       "      <td>79</td>\n",
       "      <td>67</td>\n",
       "      <td>84</td>\n",
       "      <td>46</td>\n",
       "      <td>103</td>\n",
       "      <td>1972.0</td>\n",
       "      <td>2012.0</td>\n",
       "      <td>0.01</td>\n",
       "      <td>0.13</td>\n",
       "      <td>1.18</td>\n",
       "      <td>735419</td>\n",
       "    </tr>\n",
       "    <tr>\n",
       "      <th>...</th>\n",
       "      <td>...</td>\n",
       "      <td>...</td>\n",
       "      <td>...</td>\n",
       "      <td>...</td>\n",
       "      <td>...</td>\n",
       "      <td>...</td>\n",
       "      <td>...</td>\n",
       "      <td>...</td>\n",
       "      <td>...</td>\n",
       "      <td>...</td>\n",
       "      <td>...</td>\n",
       "      <td>...</td>\n",
       "      <td>...</td>\n",
       "      <td>...</td>\n",
       "    </tr>\n",
       "    <tr>\n",
       "      <th>360</th>\n",
       "      <td>2015-6-26</td>\n",
       "      <td>66</td>\n",
       "      <td>61</td>\n",
       "      <td>70</td>\n",
       "      <td>66</td>\n",
       "      <td>83</td>\n",
       "      <td>52</td>\n",
       "      <td>98</td>\n",
       "      <td>1945.0</td>\n",
       "      <td>1936.0</td>\n",
       "      <td>0.70</td>\n",
       "      <td>0.12</td>\n",
       "      <td>2.57</td>\n",
       "      <td>735775</td>\n",
       "    </tr>\n",
       "    <tr>\n",
       "      <th>361</th>\n",
       "      <td>2015-6-27</td>\n",
       "      <td>68</td>\n",
       "      <td>59</td>\n",
       "      <td>77</td>\n",
       "      <td>66</td>\n",
       "      <td>83</td>\n",
       "      <td>50</td>\n",
       "      <td>102</td>\n",
       "      <td>1981.0</td>\n",
       "      <td>1933.0</td>\n",
       "      <td>0.00</td>\n",
       "      <td>0.12</td>\n",
       "      <td>2.88</td>\n",
       "      <td>735776</td>\n",
       "    </tr>\n",
       "    <tr>\n",
       "      <th>362</th>\n",
       "      <td>2015-6-28</td>\n",
       "      <td>70</td>\n",
       "      <td>58</td>\n",
       "      <td>81</td>\n",
       "      <td>66</td>\n",
       "      <td>83</td>\n",
       "      <td>49</td>\n",
       "      <td>104</td>\n",
       "      <td>1938.0</td>\n",
       "      <td>1934.0</td>\n",
       "      <td>0.00</td>\n",
       "      <td>0.12</td>\n",
       "      <td>1.66</td>\n",
       "      <td>735777</td>\n",
       "    </tr>\n",
       "    <tr>\n",
       "      <th>363</th>\n",
       "      <td>2015-6-29</td>\n",
       "      <td>71</td>\n",
       "      <td>66</td>\n",
       "      <td>75</td>\n",
       "      <td>66</td>\n",
       "      <td>84</td>\n",
       "      <td>50</td>\n",
       "      <td>97</td>\n",
       "      <td>1943.0</td>\n",
       "      <td>1954.0</td>\n",
       "      <td>0.03</td>\n",
       "      <td>0.11</td>\n",
       "      <td>1.91</td>\n",
       "      <td>735778</td>\n",
       "    </tr>\n",
       "    <tr>\n",
       "      <th>364</th>\n",
       "      <td>2015-6-30</td>\n",
       "      <td>71</td>\n",
       "      <td>61</td>\n",
       "      <td>80</td>\n",
       "      <td>66</td>\n",
       "      <td>84</td>\n",
       "      <td>45</td>\n",
       "      <td>101</td>\n",
       "      <td>1943.0</td>\n",
       "      <td>1931.0</td>\n",
       "      <td>0.00</td>\n",
       "      <td>0.11</td>\n",
       "      <td>2.59</td>\n",
       "      <td>735779</td>\n",
       "    </tr>\n",
       "  </tbody>\n",
       "</table>\n",
       "<p>365 rows × 14 columns</p>\n",
       "</div>"
      ],
      "text/plain": [
       "          date  actual_mean_temp  actual_min_temp  actual_max_temp  \\\n",
       "0     2014-7-1                76               68               84   \n",
       "1     2014-7-2                66               58               74   \n",
       "2     2014-7-3                66               57               75   \n",
       "3     2014-7-4                70               60               79   \n",
       "4     2014-7-5                71               63               79   \n",
       "..         ...               ...              ...              ...   \n",
       "360  2015-6-26                66               61               70   \n",
       "361  2015-6-27                68               59               77   \n",
       "362  2015-6-28                70               58               81   \n",
       "363  2015-6-29                71               66               75   \n",
       "364  2015-6-30                71               61               80   \n",
       "\n",
       "     average_min_temp  average_max_temp  record_min_temp  record_max_temp  \\\n",
       "0                  67                84               49              103   \n",
       "1                  67                84               48               99   \n",
       "2                  67                84               50              102   \n",
       "3                  67                84               49              101   \n",
       "4                  67                84               46              103   \n",
       "..                ...               ...              ...              ...   \n",
       "360                66                83               52               98   \n",
       "361                66                83               50              102   \n",
       "362                66                83               49              104   \n",
       "363                66                84               50               97   \n",
       "364                66                84               45              101   \n",
       "\n",
       "     record_min_temp_year  record_max_temp_year  actual_precipitation  \\\n",
       "0                  1982.0                1956.0                  0.04   \n",
       "1                  1930.0                1970.0                  0.12   \n",
       "2                  1940.0                1949.0                  0.05   \n",
       "3                  1940.0                2012.0                  0.00   \n",
       "4                  1972.0                2012.0                  0.01   \n",
       "..                    ...                   ...                   ...   \n",
       "360                1945.0                1936.0                  0.70   \n",
       "361                1981.0                1933.0                  0.00   \n",
       "362                1938.0                1934.0                  0.00   \n",
       "363                1943.0                1954.0                  0.03   \n",
       "364                1943.0                1931.0                  0.00   \n",
       "\n",
       "     average_precipitation  record_precipitation   odate  \n",
       "0                     0.11                  1.23  735415  \n",
       "1                     0.10                  2.50  735416  \n",
       "2                     0.11                  1.38  735417  \n",
       "3                     0.11                  0.94  735418  \n",
       "4                     0.13                  1.18  735419  \n",
       "..                     ...                   ...     ...  \n",
       "360                   0.12                  2.57  735775  \n",
       "361                   0.12                  2.88  735776  \n",
       "362                   0.12                  1.66  735777  \n",
       "363                   0.11                  1.91  735778  \n",
       "364                   0.11                  2.59  735779  \n",
       "\n",
       "[365 rows x 14 columns]"
      ]
     },
     "execution_count": 34,
     "metadata": {},
     "output_type": "execute_result"
    }
   ],
   "source": [
    "# from https://stackoverflow.com/questions/20576618/pandas-datetime-column-to-ordinal & help from TA in office hours/help room \n",
    "\n",
    "import datetime\n",
    "\n",
    "kmdw['odate'] = pd.to_datetime(kmdw['date'])\n",
    "kmdw['odate'] = kmdw['odate'].map(datetime.datetime.toordinal)\n",
    "kmdw"
   ]
  },
  {
   "cell_type": "markdown",
   "metadata": {},
   "source": [
    "### &#9989;&nbsp; Question 2.3: Polynomial fitting (7 points)\n",
    "\n",
    "Using the NumPy `polyfit` function, fit the first 300 entries of the `actual_mean_temp`, `actual_min_temp`, and `actual_max_temp` columns of the dataframe with polynomials (one for each column). This will be for dates 7/1/2014 through 4/26/2015.  Choose a degree for the polynomial and justify the choice. Use `poly1d` to **plot the data together with the best fit models**. Create three different plots (one for each different temperature statistic) and label all axes and include legends to make clear what information represents the data and what information represents the best fit. The dates should all show up in the yyyy-mm-dd format on the x-axes. Rotate the x-ticks for better display.  When successful, one of the plots should look something like this:\n",
    "<img src=\"https://raw.githubusercontent.com/msu-cmse-courses/cmse201-S21-student/master/assets/img/mean_temp_vs_data.png\">"
   ]
  },
  {
   "cell_type": "code",
   "execution_count": 35,
   "metadata": {},
   "outputs": [
    {
     "ename": "RuntimeError",
     "evalue": "set_epoch must be called before dates plotted.",
     "output_type": "error",
     "traceback": [
      "\u001b[1;31m---------------------------------------------------------------------------\u001b[0m",
      "\u001b[1;31mRuntimeError\u001b[0m                              Traceback (most recent call last)",
      "\u001b[1;32m<ipython-input-35-649a8986da87>\u001b[0m in \u001b[0;36m<module>\u001b[1;34m\u001b[0m\n\u001b[0;32m      1\u001b[0m \u001b[1;32mimport\u001b[0m \u001b[0mmatplotlib\u001b[0m\u001b[1;33m.\u001b[0m\u001b[0mdates\u001b[0m \u001b[1;32mas\u001b[0m \u001b[0mdt\u001b[0m\u001b[1;33m\u001b[0m\u001b[1;33m\u001b[0m\u001b[0m\n\u001b[1;32m----> 2\u001b[1;33m \u001b[0mdt\u001b[0m\u001b[1;33m.\u001b[0m\u001b[0mset_epoch\u001b[0m\u001b[1;33m(\u001b[0m\u001b[1;34m\"0000-12-31\"\u001b[0m\u001b[1;33m)\u001b[0m\u001b[1;33m\u001b[0m\u001b[1;33m\u001b[0m\u001b[0m\n\u001b[0m",
      "\u001b[1;32m~\\anaconda3\\lib\\site-packages\\matplotlib\\dates.py\u001b[0m in \u001b[0;36mset_epoch\u001b[1;34m(epoch)\u001b[0m\n\u001b[0;32m    266\u001b[0m     \u001b[1;32mglobal\u001b[0m \u001b[0m_epoch\u001b[0m\u001b[1;33m\u001b[0m\u001b[1;33m\u001b[0m\u001b[0m\n\u001b[0;32m    267\u001b[0m     \u001b[1;32mif\u001b[0m \u001b[0m_epoch\u001b[0m \u001b[1;32mis\u001b[0m \u001b[1;32mnot\u001b[0m \u001b[1;32mNone\u001b[0m\u001b[1;33m:\u001b[0m\u001b[1;33m\u001b[0m\u001b[1;33m\u001b[0m\u001b[0m\n\u001b[1;32m--> 268\u001b[1;33m         \u001b[1;32mraise\u001b[0m \u001b[0mRuntimeError\u001b[0m\u001b[1;33m(\u001b[0m\u001b[1;34m'set_epoch must be called before dates plotted.'\u001b[0m\u001b[1;33m)\u001b[0m\u001b[1;33m\u001b[0m\u001b[1;33m\u001b[0m\u001b[0m\n\u001b[0m\u001b[0;32m    269\u001b[0m     \u001b[0m_epoch\u001b[0m \u001b[1;33m=\u001b[0m \u001b[0mepoch\u001b[0m\u001b[1;33m\u001b[0m\u001b[1;33m\u001b[0m\u001b[0m\n\u001b[0;32m    270\u001b[0m \u001b[1;33m\u001b[0m\u001b[0m\n",
      "\u001b[1;31mRuntimeError\u001b[0m: set_epoch must be called before dates plotted."
     ]
    }
   ],
   "source": [
    "import matplotlib.dates as dt\n",
    "dt.set_epoch(\"0000-12-31\")"
   ]
  },
  {
   "cell_type": "code",
   "execution_count": null,
   "metadata": {},
   "outputs": [],
   "source": [
    "date = kmdw['date'][0:300]\n",
    "odate = kmdw['odate'][0:300]\n",
    "meant300 = kmdw['actual_mean_temp'][0:300]\n",
    "\n",
    "meant_params = np.polyfit(odate, meant300, 2)\n",
    "meant_function = np.poly1d(meant_params)\n",
    "expected_meant = meant_function(odate)\n",
    "\n",
    "plt.figure(figsize = (8,4))\n",
    "plt.plot_date(odate, meant300, label = 'mean data')\n",
    "plt.plot(odate, expected_meant, color = \"orange\", label = \"fit\")\n",
    "plt.xlabel('Date')\n",
    "plt.ylabel('Mean Temps')\n",
    "plt.title('Mean Temp Data & Regression Model - 300 Days')\n",
    "plt.xticks(rotation = 45)\n",
    "plt.grid()\n",
    "plt.legend()\n",
    "plt.show()"
   ]
  },
  {
   "cell_type": "code",
   "execution_count": null,
   "metadata": {},
   "outputs": [],
   "source": [
    "mint300 = kmdw['actual_min_temp'][0:300]\n",
    "\n",
    "mint_params = np.polyfit(odate, mint300, 2)\n",
    "mint_function = np.poly1d(mint_params)\n",
    "expected_mint = mint_function(odate)\n",
    "\n",
    "plt.figure(figsize = (8,4))\n",
    "plt.plot_date(odate, mint300, color = 'green', label = 'min data')\n",
    "plt.plot(odate, expected_mint, color = \"orange\", label = \"fit\")\n",
    "plt.xlabel('Date')\n",
    "plt.ylabel('Min Temps')\n",
    "plt.title('Min Temp Data & Regression Model - 300 Days')\n",
    "plt.xticks(rotation = 45)\n",
    "plt.grid()\n",
    "plt.legend()\n",
    "plt.show()"
   ]
  },
  {
   "cell_type": "code",
   "execution_count": null,
   "metadata": {},
   "outputs": [],
   "source": [
    "maxt300 = kmdw['actual_max_temp'][0:300]\n",
    "\n",
    "maxt_params = np.polyfit(odate, maxt300, 3) # used 3rd deg here to show difference in fit from 2nd deg polynomial \n",
    "maxt_function = np.poly1d(maxt_params)\n",
    "expected_maxt = maxt_function(odate)\n",
    "\n",
    "plt.figure(figsize = (8,4))\n",
    "plt.plot_date(odate, maxt300, color = 'purple', label = 'max data')\n",
    "plt.plot(odate, expected_maxt, color = \"orange\", label = \"fit\")\n",
    "plt.xlabel('Date')\n",
    "plt.ylabel('Max Temps')\n",
    "plt.title('Max Temp Data & Regression Model - 300 Days')\n",
    "plt.xticks(rotation = 45)\n",
    "plt.grid()\n",
    "plt.legend()\n",
    "plt.show()"
   ]
  },
  {
   "cell_type": "markdown",
   "metadata": {},
   "source": [
    "<font size=+3>&#9998;</font> \n",
    "* If I chose a 2nd deg polynomial, thats what fit the example/reference plot (seen in 1st plot, mean temps, and 2nd plot, min temps), but a 3rd deg polynomial fits the data much better. Higher than that doesn't fit the trend as well and becomes more difficult to use to predict new values"
   ]
  },
  {
   "cell_type": "markdown",
   "metadata": {},
   "source": [
    "### &#9989;&nbsp; Question 2.4: How does the model predict forward in time? (3 points)\n",
    "\n",
    "Use the models learned above for just the initial 300 days for the `actual_mean_temp`, `actual_min_temp`, and `actual_max_temp` columns to predict the temperatures for the remaining dates not used during regression; Essentially, predict the temperatures for 4/27/2015 to the end of the dataset. **Now plot the entire 365 days of actual temperatures together with the models' predictions**. Create three different plots corresponding to the three columns and label all axes and include legends on all plots. The dates should show up in the yyyy-mm-dd format on the x-axes. Rotate the x-ticks for better display. How does the choice of polynomial degree affect the forward predictions?"
   ]
  },
  {
   "cell_type": "code",
   "execution_count": null,
   "metadata": {},
   "outputs": [],
   "source": [
    "#expand on model you created above, not make new one. Extending model but not giving it new data\n",
    "#basically same as model above just 365 instd of 300 but recreating model not just extending it\n",
    "#same as 2.3 but only diff is changing to 365\n",
    "odate365 = kmdw['odate'][0:365]\n",
    "meant365 = kmdw['actual_mean_temp'][0:365]\n",
    "mint365 = kmdw['actual_min_temp'][0:365]\n",
    "maxt365 = kmdw['actual_max_temp'][0:365]\n",
    "\n",
    "\n",
    "est_meant = meant_function(odate365)\n",
    "est_mint = mint_function(odate365)\n",
    "est_maxt = maxt_function(odate365)\n",
    "\n",
    "plt.figure(figsize = (8,4))\n",
    "plt.plot_date(odate365, meant365, label = 'mean data - 365')\n",
    "plt.plot(odate365, est_meant, color = \"orange\", label = \"fit - 360\")\n",
    "plt.xlabel('Date')\n",
    "plt.ylabel('Mean Temps')\n",
    "plt.title('Mean Temp Data & Estimated Values Vs Time')\n",
    "plt.xticks(rotation = 45)\n",
    "plt.grid()\n",
    "plt.legend()\n",
    "plt.show()\n",
    "\n",
    "plt.figure(figsize = (8,4))\n",
    "plt.plot_date(odate365, mint365, color = 'green', label = 'min data - 365')\n",
    "plt.plot(odate365, est_mint, color = \"orange\", label = \"fit - 360\")\n",
    "plt.xlabel('Date')\n",
    "plt.ylabel('Min Temps')\n",
    "plt.title('Min Temp Data & Estimated Values Vs Time')\n",
    "plt.xticks(rotation = 45)\n",
    "plt.grid()\n",
    "plt.legend()\n",
    "plt.show()\n",
    "\n",
    "plt.figure(figsize = (8,4))\n",
    "plt.plot_date(odate365, maxt365, color = 'purple', label = 'max data - 365')\n",
    "plt.plot(odate365, est_maxt, color = \"orange\", label = \"fit - 360\")\n",
    "plt.xlabel('Date')\n",
    "plt.ylabel('Max Temps')\n",
    "plt.title('Max Temp Data & Estimated Values Vs Time')\n",
    "plt.xticks(rotation = 45)\n",
    "plt.grid()\n",
    "plt.legend()\n",
    "plt.show()"
   ]
  },
  {
   "cell_type": "markdown",
   "metadata": {},
   "source": [
    "<font size=+3>&#9998;</font> \n",
    "* Models with 2nd degree polynomial gives forward predictions that more closely follow the trend of the data. The model using a 3rd degree polynomial (3rd plot, max temps) deviates from the data and will make forward predictions much greater than the real values plotted are, and what the values for days beyond 365 days will be"
   ]
  },
  {
   "cell_type": "markdown",
   "metadata": {},
   "source": [
    "### &#9989;&nbsp; Question 2.5: Effect of the number of data points used to fit model parameters. (1 point)\n",
    "\n",
    "Try varying the number of data points used to fit the model parameters, e.g., using only the first 100 days or 200 days, etc. for fitting, and then using the estimated models to predict the temperatures for the remaining dates not used for fitting the model. What do you observe with regards to accuracy of future prediction with fewer or more data points to fit the model?"
   ]
  },
  {
   "cell_type": "markdown",
   "metadata": {},
   "source": [
    "<font size=+3>&#9998;</font> \n",
    "* The fewer data points used, the worse of the fit of the model/ more inaccurate the model becomes"
   ]
  },
  {
   "cell_type": "markdown",
   "metadata": {},
   "source": [
    "### &#9989;&nbsp; Question 2.6: Fitting the Model with all the data. (4 points)\n",
    "\n",
    "Now try to fit polynomial models (explain the choice of degree) to the entire 365 days worth of data. Do this for the `actual_mean_temp`, `actual_min_temp`, and `actual_max_temp` columns. **Then plot the entire 365 days of actual temperatures together with the new models' predictions**. Create three different plots and follow all plotting guidelines as before. How do these models seem to compare visually to the best fit ones in Question 2.4?"
   ]
  },
  {
   "cell_type": "code",
   "execution_count": null,
   "metadata": {},
   "outputs": [],
   "source": [
    "meant365_params = np.polyfit(odate365, meant365, 2)\n",
    "meant365_function = np.poly1d(meant365_params)\n",
    "expected_meant365 = meant365_function(odate365)\n",
    "\n",
    "mint365_params = np.polyfit(odate365, mint365, 2)\n",
    "mint365_function = np.poly1d(mint365_params)\n",
    "expected_mint365 = mint365_function(odate365)\n",
    "\n",
    "maxt365_params = np.polyfit(odate365, maxt365, 3)\n",
    "maxt365_function = np.poly1d(maxt365_params)\n",
    "expected_maxt365 = maxt365_function(odate365)\n",
    "\n",
    "plt.figure(figsize = (8,4))\n",
    "plt.plot_date(odate365, meant365, label = 'mean data')\n",
    "plt.plot(odate365, expected_meant365, color = \"red\", label = \"fit\")\n",
    "plt.xlabel('Date')\n",
    "plt.ylabel('Mean Temps')\n",
    "plt.title('Mean Temp Data & Regression Model - 365 Days')\n",
    "plt.xticks(rotation = 45)\n",
    "plt.grid()\n",
    "plt.legend()\n",
    "plt.show()\n",
    "\n",
    "plt.figure(figsize = (8,4))\n",
    "plt.plot_date(odate365, mint365, color = 'green', label = 'min data')\n",
    "plt.plot(odate365, expected_mint365, color = \"red\", label = \"fit\")\n",
    "plt.xlabel('Date')\n",
    "plt.ylabel('Min Temps')\n",
    "plt.title('Min Temp Data & Regression Model - 365 Days')\n",
    "plt.xticks(rotation = 45)\n",
    "plt.grid()\n",
    "plt.legend()\n",
    "plt.show()\n",
    "\n",
    "plt.figure(figsize = (8,4))\n",
    "plt.plot_date(odate365, maxt365, color = 'purple', label = 'max data')\n",
    "plt.plot(odate365, expected_maxt365, color = \"red\", label = \"fit\")\n",
    "plt.xlabel('Date')\n",
    "plt.ylabel('Max Temps')\n",
    "plt.title('Max Temp Data & Regression Model - 365 Days')\n",
    "plt.xticks(rotation = 45)\n",
    "plt.grid()\n",
    "plt.legend()\n",
    "plt.show()"
   ]
  },
  {
   "cell_type": "markdown",
   "metadata": {},
   "source": [
    "<font size=+3>&#9998;</font> The models are a much better fit for the data, including/especially the one where the 3rd degree poly is used that was so innacurate before "
   ]
  },
  {
   "cell_type": "markdown",
   "metadata": {},
   "source": [
    "### &#9989;&nbsp; Question 2.7: Quantifying Fitting Errors. (3 points)\n",
    "\n",
    "We can also determine the quality of the fit by computing the *residuals*, $r_i$, as the difference between each known data point $y_i$ and the *expected* $y$ value from the best fit model evaluated at $x_i$, i.e., $$r_i = y_i - f(x_i).$$ \n",
    "\n",
    "The residuals can be aggregated over all data points and summarized with the mean squared error $$MSE=\\frac{1}{N}\\sum_{i=1}^{N}r_i^2.$$ \n",
    "\n",
    "Compute using python, the mean squared error over the `actual_mean_temp` column using the model fitted to all 365 days of data and using the model estimated using only the first 300 days of data. Pick the same degree of the polynomial (say 2) for both cases. In which case are residuals smaller (or the fit is better)?  "
   ]
  },
  {
   "cell_type": "code",
   "execution_count": null,
   "metadata": {},
   "outputs": [],
   "source": [
    "#expected_meant365 = f(x[i])\n",
    "#r365[i] = meant365[i] - expected_meant365[i]\n",
    "#r300[i] = meant365[i] - est_meant[i]\n",
    "\n",
    "rsq365 = np.array([])\n",
    "rsqest = np.array([])\n",
    "\n",
    "for i in range(len(odate365)):\n",
    "    r1 = meant365[i] - expected_meant365[i]\n",
    "    r1sq = r1**2\n",
    "    rsq365 = np.append(rsq365, r1sq)\n",
    "mse1 = (1/(len(meant365))) * rsq365.sum()\n",
    "print('mse fitted:', mse1)\n",
    "\n",
    "for i in range(len(odate365)):\n",
    "    r2 = meant365[i] - est_meant[i]\n",
    "    r2sq = r2**2\n",
    "    rsqest = np.append(rsqest, r2sq)\n",
    "mse2 = (1/(len(meant365))) * rsqest.sum()\n",
    "print('mse estimated:', mse2)"
   ]
  },
  {
   "cell_type": "markdown",
   "metadata": {},
   "source": [
    "<font size=+3>&#9998;</font> \n",
    "* R's are smaller for the model fitted to all 365 days than the model fitted to 300 days, which is what we would expect. "
   ]
  },
  {
   "cell_type": "markdown",
   "metadata": {},
   "source": [
    "### &#9989;&nbsp; Question 2.8: Thinking more models. (1 point)\n",
    "\n",
    "If the data were to be repeated over several years, what pattern would you expect to see in the data? Would a polynomial model make sense for predicting the temperatures over several years? What other functions would you use to model such data?"
   ]
  },
  {
   "cell_type": "markdown",
   "metadata": {},
   "source": [
    "<font size=+3>&#9998;</font> \n",
    "* We would expect to see a bit of an occilation in the temperatures, with them increasing in the summer and decreasing in the winter months. A model like the one we made in class on day 14 using ODE's would probably be better. Also curve_fit?"
   ]
  },
  {
   "cell_type": "markdown",
   "metadata": {
    "id": "JLumswUqzLq7"
   },
   "source": [
    "---\n",
    "## Assignment Wrap-up\n",
    "\n",
    "Please fill out the following Google Form before you submit your assignment. **You must completely fill this out in order to receive credit for the assignment!**\n",
    "\n",
    "**COMPLETE THIS SURVEY through [this link](https://forms.office.com/Pages/ResponsePage.aspx?id=MHEXIi9k2UGSEXQjetVofddd5T-Pwn1DlT6_yoCyuCFUQjRHUktCSEtQR0hLUVU0NkdWUlFSME9OMC4u) or through cell below.**"
   ]
  },
  {
   "cell_type": "markdown",
   "metadata": {
    "id": "s9RBJPPBzLq8"
   },
   "source": [
    "### ANSWER\n",
    "\n",
    "Instructors, you can access the responses to the survey [here](https://forms.office.com/Pages/DesignPage.aspx?fragment=FormId%3DMHEXIi9k2UGSEXQjetVofddd5T-Pwn1DlT6_yoCyuCFUQjRHUktCSEtQR0hLUVU0NkdWUlFSME9OMC4u%26Token%3Daafe169eea6d4c18b22d4401ef23158b).\n"
   ]
  },
  {
   "cell_type": "code",
   "execution_count": null,
   "metadata": {
    "id": "qlhQI52-zLq8",
    "outputId": "9afe451c-9ac2-4d55-8705-f58eb539dec4"
   },
   "outputs": [],
   "source": [
    "from IPython.display import HTML\n",
    "HTML(\n",
    "\"\"\"\n",
    "<iframe \n",
    "\tsrc=\"https://forms.office.com/Pages/ResponsePage.aspx?id=MHEXIi9k2UGSEXQjetVofRzD77LVqLNIpscq-NmZsrdUNENQVDBCRDhKVEowQ0dSOFVLWVNNS0Q3NS4u\" \n",
    "\twidth=\"80%\" \n",
    "\theight=\"1200px\" \n",
    "\tframeborder=\"0\" \n",
    "\tmarginheight=\"0\" \n",
    "\tmarginwidth=\"0\">\n",
    "\tLoading...\n",
    "</iframe>\n",
    "\"\"\"\n",
    ")"
   ]
  },
  {
   "cell_type": "markdown",
   "metadata": {
    "id": "LWhZbMUPzLq-"
   },
   "source": [
    "---\n",
    "\n",
    "### Congratulations, you're done!\n",
    "\n",
    "Submit this assignment by uploading it to the course Desire2Learn web page.  \n",
    "Go to the \"Homework Assignments\" section, find the appropriate submission folder link, and upload it there.\n"
   ]
  },
  {
   "cell_type": "markdown",
   "metadata": {
    "id": "AeXZvgIIzLq-"
   },
   "source": [
    "&#169; Copyright 2020, [Department of Computational Mathematics, Science and Engineering](https://cmse.msu.edu) at Michigan State University."
   ]
  }
 ],
 "metadata": {
  "colab": {
   "name": "HW-03_ItalyMigrationData.ipynb",
   "provenance": []
  },
  "kernelspec": {
   "display_name": "Python 3",
   "language": "python",
   "name": "python3"
  },
  "language_info": {
   "codemirror_mode": {
    "name": "ipython",
    "version": 3
   },
   "file_extension": ".py",
   "mimetype": "text/x-python",
   "name": "python",
   "nbconvert_exporter": "python",
   "pygments_lexer": "ipython3",
   "version": "3.8.5"
  }
 },
 "nbformat": 4,
 "nbformat_minor": 4
}
