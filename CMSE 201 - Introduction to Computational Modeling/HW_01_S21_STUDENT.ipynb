{
 "cells": [
  {
   "cell_type": "markdown",
   "metadata": {},
   "source": [
    "### <p style=\"text-align: right;\"> &#9989; **Elizabeth Walter** </p>"
   ]
  },
  {
   "cell_type": "markdown",
   "metadata": {},
   "source": [
    "# __CMSE  201 &ndash; Spring 2021__\n",
    "\n",
    "<img src=\"https://cmse.msu.edu/sites/_cmse/assets/Image/image002.jpg\"\n",
    "     alt=\"CMSE Logo\"\n",
    "     align=\"right\" \n",
    "     height=\"100\" \n",
    "     width=\"100\" />\n",
    "\n",
    "# Homework 1: Introduction to Loops, Lists, and Dictionaries\n",
    "\n",
    "## Learning Goals\n",
    "\n",
    "### Content Goals\n",
    "- **Write code to execute simple mathematical operations.**\n",
    "- **Utilize lists to store data**\n",
    "- **Utilize loops to store, access, and manipulate data in a Dictionary**\n",
    "\n",
    "\n",
    "### Practice Goals\n",
    "- **Debugging practices**\n",
    "  - *Isolate and interpret the relevant information in an error code*\n",
    "  - *Use print statements to determine the outcome of operations*\n",
    "- **Describe code and bugs using plain language**\n",
    "\n",
    "\n",
    "___"
   ]
  },
  {
   "cell_type": "markdown",
   "metadata": {},
   "source": [
    "## Assignment instructions\n",
    "\n",
    "Work through the following assignment, making sure to follow all the directions and answer all the questions.\n",
    "\n",
    "**This assignment is due at 11:59 pm on Friday, Feb 5th.** It should be uploaded into the \"Homework Assignments\" submission folder for Homework #1.  Submission instructions can be found at the end of the notebook."
   ]
  },
  {
   "cell_type": "markdown",
   "metadata": {},
   "source": [
    "# 0. Version check\n",
    "\n",
    "Before you begin, make sure your Jupyter kernel is Python3. There are significant differences between Python2 and Python3, and we will use Python3 in this course. The kernel type at the upper-right corner should say \"Python3\", and the following code should show a version 3.x.y.\n",
    "\n",
    "If your kernel is Python2, try selecting Python3 from the Kernel menu above under the submenu \"Change kernel\". If that does not work, consult the Slack help channel for assistance."
   ]
  },
  {
   "cell_type": "code",
   "execution_count": 1,
   "metadata": {},
   "outputs": [
    {
     "name": "stdout",
     "output_type": "stream",
     "text": [
      "3.8.5 (default, Sep  3 2020, 21:29:08) [MSC v.1916 64 bit (AMD64)]\n"
     ]
    }
   ],
   "source": [
    "import sys\n",
    "print(sys.version)"
   ]
  },
  {
   "cell_type": "markdown",
   "metadata": {},
   "source": [
    "---\n",
    "## Grading\n",
    "\n",
    "* Practice/Introductory Problems: Lists (4 points)\n",
    "* Practice/Introductory Problems: Dictionaries (4 points)\n",
    "* Debugging Code: Buggy Code 1 (4 Points)\n",
    "* Debugging Code: Buggy Code 2 (4 Points)\n",
    "* Debugging Code: Buggy Code 3 (4 Points)\n",
    "* Calculating the Total Amount of Macronutrients in a Meal: Create your own Dataset (3 Points)\n",
    "* Calculating the Total Amount of Macronutrients in a Meal: Bringing it All Together (6 Points)\n",
    "\n",
    "Total points possible: **29**"
   ]
  },
  {
   "cell_type": "markdown",
   "metadata": {},
   "source": [
    "---\n",
    "# 1. Practice Problems (8 Points)\n",
    "\n",
    "## A. Lists (4 Points)\n",
    "\n",
    "You have already seen Python \"lists\" in some of your previous work. If you'd like a quick rundown of a list's functionality, consider reviewing the examples provided by [W3Schools](https://www.w3schools.com/python/python_lists.asp).\n",
    "\n",
    "### &#9989;&nbsp; Task\n",
    "**Construct two lists, one with your three favorite kinds of fruit, and the other with an explanation of why each fruit is your favorite. Write a `for` loop that prints out the type of fruit and the explanation for why you like it.**\n",
    "\n",
    "*For example*\n",
    "\n",
    "I like Oranges because They remind me of Holland. \n",
    "\n",
    "I like Grapes because Purple is the best color.\n",
    "\n",
    "I like Clementines because They are the Corgis of oranges."
   ]
  },
  {
   "cell_type": "code",
   "execution_count": 252,
   "metadata": {},
   "outputs": [
    {
     "name": "stdout",
     "output_type": "stream",
     "text": [
      "I like mangoes because they are tropical\n",
      "I like pears because they are convenient like an apple but taste better\n",
      "I like cherries because they are sweet\n"
     ]
    }
   ],
   "source": [
    "# Put your code here\n",
    "\n",
    "fruit = ['mangoes','pears','cherries']\n",
    "why = ['are tropical','are convenient like an apple but taste better','are sweet']\n",
    "\n",
    "for i in range(len(fruit)):\n",
    "    print(\"I like\", fruit[i], \"because they\", why[i])"
   ]
  },
  {
   "cell_type": "markdown",
   "metadata": {},
   "source": [
    "## B. Dictionaries (4 Points)\n",
    "\n",
    "Dictionaries are new. They're like lists, in that they provide a means to store multiple values in a single compound variable. The main differences are:\n",
    "\n",
    "* Dictionaries store values using *keys*, instead of indices (see image below).\n",
    "* You create a new dictionary using curly braces, `{}`, instead of square brackets, `[]`.\n",
    "\n",
    "\n",
    "<img src=\"https://bjc.edc.org/bjc-r/img/python/dictionaries_vs_lists.jpg\"\n",
    "     alt=\"List V. Dict\"\n",
    "     align=\"center\" \n",
    "     height=\"800\" \n",
    "     width=\"800\" />\n",
    "\n",
    "\n",
    "\n",
    "#### NOTE:\n",
    "A more detailed introduction to dictionaries and their functionality can be found at [W3Schools](https://www.w3schools.com/python/python_dictionaries.asp)."
   ]
  },
  {
   "cell_type": "code",
   "execution_count": 253,
   "metadata": {},
   "outputs": [
    {
     "name": "stdout",
     "output_type": "stream",
     "text": [
      "Denver\n"
     ]
    }
   ],
   "source": [
    "#Dictionary example 1: Making a dictionary\n",
    "\n",
    "state_dictionary = {\"Name\": \"Colorado\",\n",
    "                   \"Population\": 5758736,\n",
    "                   \"Capital\": \"Denver\",\n",
    "                   \"State Bird\": \"Lark bunting\"}\n",
    "\n",
    "print(state_dictionary[\"Capital\"])"
   ]
  },
  {
   "cell_type": "code",
   "execution_count": 254,
   "metadata": {},
   "outputs": [
    {
     "name": "stdout",
     "output_type": "stream",
     "text": [
      "Key:  Name     Value:  Colorado\n",
      "Key:  Population     Value:  5758736\n",
      "Key:  Capital     Value:  Denver\n",
      "Key:  State Bird     Value:  Lark bunting\n"
     ]
    }
   ],
   "source": [
    "#Dictionary example 2: Looping through keys and values in a dictionary\n",
    "\n",
    "for key in state_dictionary:\n",
    "    print(\"Key: \",key,\"    Value: \",state_dictionary[key])"
   ]
  },
  {
   "cell_type": "markdown",
   "metadata": {},
   "source": [
    "**Now**, think about an actual (non-coding) dictionary. It's a book with many *values* (definitions), and you look up these values using a specific *key* (word).\n",
    "\n",
    "### &#9989;&nbsp; Task \n",
    "\n",
    "**Choose three or four words and look up their definitions. Construct a dictionary whose keys are the words and whose values are the definitions.** "
   ]
  },
  {
   "cell_type": "code",
   "execution_count": 255,
   "metadata": {},
   "outputs": [
    {
     "name": "stdout",
     "output_type": "stream",
     "text": [
      "dog : a domesticated canid, Canis familiaris\n",
      "cat : a small domesticated carnivore, Felis domestica or F. catus\n",
      "horse : a large, solid-hoofed, herbivorous quadruped, Equus caballus\n"
     ]
    }
   ],
   "source": [
    "# Put your code here\n",
    "\n",
    "mydictionary = {\"dog\": \"a domesticated canid, Canis familiaris\", \"cat\": \"a small domesticated carnivore, Felis domestica or F. catus\", \"horse\": \"a large, solid-hoofed, herbivorous quadruped, Equus caballus\"}\n",
    "\n",
    "for key in mydictionary:\n",
    "    print(key, \":\", mydictionary[key])"
   ]
  },
  {
   "cell_type": "markdown",
   "metadata": {},
   "source": [
    "# 2. Debugging Code (12 Points)\n",
    "\n",
    "You’re working for a company that advises different groups that provide meals to schools and youth groups. Your job involves calculating the total amount of macronutrients (fat, protein, carbohydrates, etc.) that different meals offer.\n",
    "\n",
    "Your first task at your new job is to work with some of the code written by someone else in the company that hasn’t been working lately.\n",
    "\n",
    "## Buggy Code 1 (4 Points)\n",
    "\n",
    "**Note:** The first thing you should always do when there is an error is to **look at the line number provided and the specific error code.** You can use these two pieces of information to solve bugs *without needing to understand what the code is doing.* \n",
    "\n",
    "\n",
    "### &#9989;&nbsp; Fixing the Code (2 Points)\n",
    "The code below is supposed to take a list of protein values, add 10 to each value, and make a histogram.\n",
    "\n",
    "**Rewrite the code below so that it achieves the task it is supposed to.**"
   ]
  },
  {
   "cell_type": "code",
   "execution_count": 256,
   "metadata": {
    "scrolled": true
   },
   "outputs": [
    {
     "ename": "TypeError",
     "evalue": "unsupported operand type(s) for +: 'int' and 'str'",
     "output_type": "error",
     "traceback": [
      "\u001b[1;31m---------------------------------------------------------------------------\u001b[0m",
      "\u001b[1;31mTypeError\u001b[0m                                 Traceback (most recent call last)",
      "\u001b[1;32m<ipython-input-256-0b1a9d0c0ac4>\u001b[0m in \u001b[0;36m<module>\u001b[1;34m\u001b[0m\n\u001b[0;32m      6\u001b[0m \u001b[1;33m\u001b[0m\u001b[0m\n\u001b[0;32m      7\u001b[0m \u001b[1;32mfor\u001b[0m \u001b[0mjj\u001b[0m \u001b[1;32min\u001b[0m \u001b[0mrange\u001b[0m\u001b[1;33m(\u001b[0m\u001b[0mlen\u001b[0m\u001b[1;33m(\u001b[0m\u001b[0mprotein\u001b[0m\u001b[1;33m)\u001b[0m\u001b[1;33m)\u001b[0m\u001b[1;33m:\u001b[0m\u001b[1;33m\u001b[0m\u001b[1;33m\u001b[0m\u001b[0m\n\u001b[1;32m----> 8\u001b[1;33m     \u001b[0mprotein\u001b[0m\u001b[1;33m[\u001b[0m\u001b[0mjj\u001b[0m\u001b[1;33m]\u001b[0m \u001b[1;33m=\u001b[0m \u001b[0mprotein\u001b[0m\u001b[1;33m[\u001b[0m\u001b[0mjj\u001b[0m\u001b[1;33m]\u001b[0m\u001b[1;33m+\u001b[0m\u001b[1;34m'10'\u001b[0m\u001b[1;33m\u001b[0m\u001b[1;33m\u001b[0m\u001b[0m\n\u001b[0m\u001b[0;32m      9\u001b[0m \u001b[1;33m\u001b[0m\u001b[0m\n\u001b[0;32m     10\u001b[0m \u001b[0mplt\u001b[0m\u001b[1;33m.\u001b[0m\u001b[0mhist\u001b[0m\u001b[1;33m(\u001b[0m\u001b[0mprotein\u001b[0m\u001b[1;33m)\u001b[0m\u001b[1;33m\u001b[0m\u001b[1;33m\u001b[0m\u001b[0m\n",
      "\u001b[1;31mTypeError\u001b[0m: unsupported operand type(s) for +: 'int' and 'str'"
     ]
    }
   ],
   "source": [
    "# Buggy code 1\n",
    "\n",
    "import matplotlib.pyplot as plt\n",
    "\n",
    "protein = [32,12,15,34,32,36,28,29,27,32,6,6,27,8,32,3,33,14,38]\n",
    "\n",
    "for jj in range(len(protein)):\n",
    "    protein[jj] = protein[jj]+'10'\n",
    "\n",
    "plt.hist(protein)\n",
    "plt.show()"
   ]
  },
  {
   "cell_type": "code",
   "execution_count": 257,
   "metadata": {},
   "outputs": [
    {
     "data": {
      "image/png": "[encoded data removed]",
      "text/plain": [
       "<Figure size 432x288 with 1 Axes>"
      ]
     },
     "metadata": {
      "needs_background": "light"
     },
     "output_type": "display_data"
    }
   ],
   "source": [
    "# Write your solution here\n",
    "\n",
    "import matplotlib.pyplot as plt\n",
    "\n",
    "protein = [32,12,15,34,32,36,28,29,27,32,6,6,27,8,32,3,33,14,38]\n",
    "\n",
    "for jj in range(len(protein)):\n",
    "    protein[jj] = protein[jj]+10\n",
    "    \n",
    "plt.hist(protein)\n",
    "plt.show()"
   ]
  },
  {
   "cell_type": "code",
   "execution_count": 79,
   "metadata": {},
   "outputs": [
    {
     "data": {
      "image/png": "[encoded data removed]",
      "text/plain": [
       "<Figure size 432x288 with 1 Axes>"
      ]
     },
     "metadata": {
      "needs_background": "light"
     },
     "output_type": "display_data"
    }
   ],
   "source": [
    "import matplotlib.pyplot as plt\n",
    "\n",
    "protein = [32,12,15,34,32,36,28,29,27,32,6,6,27,8,32,3,33,14,38]\n",
    "\n",
    "for jj in range(len(protein)):\n",
    "    protein[jj] += 10\n",
    "    \n",
    "plt.hist(protein)\n",
    "plt.show()"
   ]
  },
  {
   "cell_type": "markdown",
   "metadata": {},
   "source": [
    "### &#9989;&nbsp; Explaining the Problem and the Solution (2 Points)\n",
    "\n",
    "In the space below, explain the problem and your solution. You should include the following information:\n",
    "1. The line of code that caused the error(s)\n",
    "2. (Where appropriate) The error code\n",
    "3. A plain english description of the error(s) in the code\n",
    "4. How you solved the error(s)"
   ]
  },
  {
   "cell_type": "markdown",
   "metadata": {},
   "source": [
    "*Explain the problem and solution here*\n",
    "\n",
    "1. Line 8\n",
    "\n",
    "2. TypeError: unsupported operand type(s) for +: 'int' and 'str'\n",
    "\n",
    "3. Instead of treating 10 as an integer being added to a variable, whose values are also integers, the code was trying to combine an integer with a string. Python will not let you concatenate a number datatype (like an integer or 'int' with a non-number datatype (like a string or 'str') without turning the integer into a string first (which we don't want to do here).\n",
    "\n",
    "4. I deleted the quotation marks around 10, which changed it from a string to an integer so Python then knew to apply numerical operations (addition).\n",
    "   - I also changed it another way (but with the same results) by changing \"protein[jj] = protein[jj]+'10'\" to \"protein[jj] += 10\" which tells Python to add 10 to protein[jj] for every iteration in the list."
   ]
  },
  {
   "cell_type": "markdown",
   "metadata": {},
   "source": [
    "## Buggy Code 2 (4 Points)\n",
    "\n",
    "**Note** Sometimes the code that you get won't throw an error. *That does not mean it is running correctly.* **You should always check to make sure that your code is running correctly.**\n",
    "\n",
    "### &#9989;&nbsp; Fixing the Code (2 Points)\n",
    "The code below has a list of calories from different foods and is supposed to multiply each value by two and sum them together. So, for instance, if we had a list that was `[120, 65, 220]`, then the code should return `(120*2) + (65*2) + (220*2) = 810`.\n",
    "\n",
    "**Rewrite the code below so that it achieves the task it is supposed to.**"
   ]
  },
  {
   "cell_type": "code",
   "execution_count": 258,
   "metadata": {},
   "outputs": [
    {
     "name": "stdout",
     "output_type": "stream",
     "text": [
      "380.0\n"
     ]
    }
   ],
   "source": [
    "#Buggy code 2\n",
    "\n",
    "calories = [270,75,375,475,235,345,340,190]\n",
    "\n",
    "for ii in range(len(calories)):\n",
    "    sum_of_cals = 2.0*calories[ii]\n",
    "\n",
    "print(sum_of_cals)"
   ]
  },
  {
   "cell_type": "code",
   "execution_count": 259,
   "metadata": {},
   "outputs": [
    {
     "name": "stdout",
     "output_type": "stream",
     "text": [
      "4610\n"
     ]
    }
   ],
   "source": [
    "# Write your solution here\n",
    "\n",
    "calories = [270,75,375,475,235,345,340,190]\n",
    "\n",
    "for ii in range(len(calories)):\n",
    "    calories[ii] = 2*calories[ii]\n",
    "    sumcals = sum(calories)\n",
    "print(sumcals)"
   ]
  },
  {
   "cell_type": "markdown",
   "metadata": {},
   "source": [
    "### &#9989;&nbsp; Explaining the Problem and the Solution (2 Points)\n",
    "\n",
    "In the space below, explain the problem and your solution. You should include the following information:\n",
    "1. The line of code that caused the error(s)\n",
    "2. (Where appropriate) The error code\n",
    "3. A plain english description of the error(s) in the code\n",
    "4. How you solved the error(s)"
   ]
  },
  {
   "cell_type": "markdown",
   "metadata": {},
   "source": [
    "*Explain the problem and solution here*\n",
    "\n",
    "1. Line 6\n",
    "2. --\n",
    "3. In the loop they made a variable called 'sum_of_cals' with a value of 2*calories[ii] that is supposed to = the sum of double all of the values in list 'calories'. '2*calories[ii]' just doubled the value in index ii/the indexes of the list 'calories' but this line of code does not double the values in each index AND then add all of the values from the list together. Outside of the loop, 'sum_of_cals' holds the value of 380, which is 2 * the last value in the list 'calories', or 2*calories[7].\n",
    "4. Instead of making a new variable, I modified the original list 'calories' and made sure to include the [ii] so that python knew that I wanted it to be an object (list) that can be iterated over in this loop and not just an integer value, and doubled all of the values in the list 'calories' that way. Then I was able to use the sum function on the (new) list 'calories' to create an integer variable 'sumcals' that was the sum of all the values in the list 'calories'."
   ]
  },
  {
   "cell_type": "markdown",
   "metadata": {},
   "source": [
    "## Buggy Code 3 (4 Points)\n",
    "\n",
    "**Note** Frequently, you will have situations where there are multiple bugs in the code. **Make sure you have found and fixed all of the bugs in your code.**\n",
    "\n",
    "\n",
    "\n",
    "### &#9989;&nbsp; Fixing the Code (2 Points)\n",
    "The code below is supposed to loop through and print all the keys from a dictionary *except the first 3* (I.e., it should just print out Fat and Carbs).\n",
    "\n",
    "**Rewrite the code below so that it achieves the task it is supposed to.**"
   ]
  },
  {
   "cell_type": "code",
   "execution_count": 251,
   "metadata": {
    "scrolled": false
   },
   "outputs": [
    {
     "ename": "TypeError",
     "evalue": "'dict_keys' object is not subscriptable",
     "output_type": "error",
     "traceback": [
      "\u001b[1;31m---------------------------------------------------------------------------\u001b[0m",
      "\u001b[1;31mTypeError\u001b[0m                                 Traceback (most recent call last)",
      "\u001b[1;32m<ipython-input-251-e7925e47dd2b>\u001b[0m in \u001b[0;36m<module>\u001b[1;34m\u001b[0m\n\u001b[0;32m      9\u001b[0m \u001b[0mlist_of_keys\u001b[0m \u001b[1;33m=\u001b[0m \u001b[0mnutrient_dict\u001b[0m\u001b[1;33m.\u001b[0m\u001b[0mkeys\u001b[0m\u001b[1;33m(\u001b[0m\u001b[1;33m)\u001b[0m\u001b[1;33m\u001b[0m\u001b[1;33m\u001b[0m\u001b[0m\n\u001b[0;32m     10\u001b[0m \u001b[1;33m\u001b[0m\u001b[0m\n\u001b[1;32m---> 11\u001b[1;33m \u001b[0mtype\u001b[0m\u001b[1;33m(\u001b[0m\u001b[0mlist_of_keys\u001b[0m\u001b[1;33m[\u001b[0m\u001b[0mii\u001b[0m\u001b[1;33m]\u001b[0m\u001b[1;33m)\u001b[0m\u001b[1;33m\u001b[0m\u001b[1;33m\u001b[0m\u001b[0m\n\u001b[0m",
      "\u001b[1;31mTypeError\u001b[0m: 'dict_keys' object is not subscriptable"
     ]
    }
   ],
   "source": [
    "#Buggy code 3\n",
    "\n",
    "nutrient_dict = {\"Name\": [\"Turkey Sandwich On Croissant\", \"Potato Chips\", \"Orange\"],\n",
    "                \"Calories\": [501, 157, 85],\n",
    "                \"Protein\": [26, 1.9, 1.7],\n",
    "                \"Fat\": [26, 9.9, 0.2],\n",
    "                \"Carbs\": [40, 15, 21]}\n",
    "\n",
    "list_of_keys = nutrient_dict.keys()\n",
    "\n",
    "for ii in range(1, len(list_of_keys)):\n",
    "    print(list_of_keys[ii])"
   ]
  },
  {
   "cell_type": "code",
   "execution_count": 260,
   "metadata": {},
   "outputs": [
    {
     "name": "stdout",
     "output_type": "stream",
     "text": [
      "Fat\n",
      "Carbs\n"
     ]
    }
   ],
   "source": [
    "# Write your solution here\n",
    "\n",
    "#is supposed to loop through and print all the keys from a dictionary except the first 3\n",
    "    #(I.e., should just print out Fat and Carbs)\n",
    "\n",
    "#I used type(list_of_keys) to determine that variable 'list_of_keys' type is 'dict_keys'.\n",
    "#\"TypeError: '' object is not subscriptable\" - some objects are subscriptable, meaning they can contain other objects. \n",
    "#Dictionaries aren't ordered so cannot be indexed, \n",
    "    #so HAVE make it into a list if you want to be able to dictate what parts of dictionary print?\n",
    "\n",
    "\n",
    "nutrient_dict = {\"Name\": [\"Turkey Sandwich On Croissant\", \"Potato Chips\", \"Orange\"],\n",
    "                \"Calories\": [501, 157, 85],\n",
    "                \"Protein\": [26, 1.9, 1.7],\n",
    "                \"Fat\": [26, 9.9, 0.2],\n",
    "                \"Carbs\": [40, 15, 21]}\n",
    "\n",
    "list_of_keys = nutrient_dict.keys()\n",
    "list(list_of_keys) #output is a list of all of the keys, got syntax/method after googling \"dict_keys python\" from https://stackoverflow.com/questions/18552001/accessing-dict-keys-element-by-index-in-python3\n",
    "keys = list(list_of_keys) \n",
    "\n",
    "for i in range(3,len(keys)): #made loop start at the 3rd index ('Fat') and stop at the end of the length of the list\n",
    "                                #that way it would skip the 1st 3 keys (indices) for whatever it does in the loop\n",
    "    print(keys[i]) #will print keys[3], keys[4], (and if there were more to the list print the remainder of the list too)"
   ]
  },
  {
   "cell_type": "markdown",
   "metadata": {},
   "source": [
    "### &#9989;&nbsp; Explaining the Problem and the Solution (2 Points)\n",
    "\n",
    "In the space below, explain the problem and your solution. You should include the following information:\n",
    "1. The line of code that caused the error(s)\n",
    "2. (Where appropriate) The error code\n",
    "3. A plain english description of the error(s) in the code\n",
    "4. How you solved the error(s)"
   ]
  },
  {
   "cell_type": "markdown",
   "metadata": {},
   "source": [
    "*Explain the problem and solution here*\n",
    "\n",
    "1. Line 12\n",
    "2. TypeError: 'dict_keys' object is not subscriptable\n",
    "3. We turned something that was able to be iterated through and indexed (a dictionary) into something that wasn't (list_of_keys) and then tried to use indexing on it ('list_of_keys[ii]').\n",
    "4. I don't think I did it correctly, but can't really figure out what end result I am being asked to produce."
   ]
  },
  {
   "cell_type": "markdown",
   "metadata": {},
   "source": [
    "# 3. Calculating the Total Amount of Macronutrients in a Meal\n",
    "\n",
    "Now that you have finished up debugging other people's code (THIS IS WHAT IT'S LIKE FOR A SOFTWARE DEVELOPER), it's time to solve the problem you were originally tasked with: writing a piece of code to find to calculate the nutritional information for a meal.\n",
    "\n",
    "### &#9989;&nbsp; Create your own Dataset (3 Points)\n",
    "First, define your own data dictionary. Pick **three** food items for a meal and **construct your own nutritional dictionary similar to the own used in Buggy Code 3.** \n",
    "\n",
    "You can use [this website](https://tools.myfooddata.com/nutrition-facts) to find nutritional information. "
   ]
  },
  {
   "cell_type": "code",
   "execution_count": 261,
   "metadata": {},
   "outputs": [],
   "source": [
    "#Write your own dictionary here\n",
    "\n",
    "#raisin bran, red bull, edamame\n",
    "\n",
    "my_food_dict = {\"Name\": [\"Raisin Bran\", \"Red Bull\", \"Edamame\"],\n",
    "                \"Calories\": [180, 10, 90],\n",
    "                \"Protein\": [4, 0, 7],\n",
    "                \"Fat\": [1, 0, 2.5],\n",
    "                \"Carbs\": [41, 2, 10]}"
   ]
  },
  {
   "cell_type": "markdown",
   "metadata": {},
   "source": [
    "### &#9989;&nbsp; Bringing it All Together (6 Points)\n",
    "\n",
    "The company you work for has a database full of meals stored as dictionaries, in the same format as the last debugging problem you finished. Your boss wants you to **write a piece of code that, when given one of these meal dictionaries, will:**\n",
    "\n",
    "1. **Print out all of the food items in the meal**\n",
    "2. **Calculate the sum total of each Macronutrient (e.g., total Calories, total Protein, etc.)**\n",
    "3. **Print out the name and the sum total of each Macronutrient** (E.g., *The total amount of  Calories in this meal is 825. The total amount of Protein is ...\"*) \n",
    "\n",
    "**Note** It will be helpful to go back to the code that you debugged earlier."
   ]
  },
  {
   "cell_type": "code",
   "execution_count": 262,
   "metadata": {},
   "outputs": [],
   "source": [
    "# Write your code here\n",
    "\n",
    "#I couldn't figure out buggy code 3 so"
   ]
  },
  {
   "cell_type": "markdown",
   "metadata": {},
   "source": [
    "---\n",
    "## Assignment Wrap-up\n",
    "\n",
    "Please fill out the following Google Form before you submit your assignment. **You must completely fill this out in order to receive credit for the assignment!**\n",
    "\n",
    "**COMPLETE THIS SURVEY through [this link](https://forms.office.com/Pages/ResponsePage.aspx?id=MHEXIi9k2UGSEXQjetVofWtNmJF3VV1Ko4OWA1RPCNZUNlhHUjZMREQ4V0lFSzZVOFIyTkFYT0JISy4u) or through cell below.**\n"
   ]
  },
  {
   "cell_type": "code",
   "execution_count": 1,
   "metadata": {},
   "outputs": [
    {
     "data": {
      "text/html": [
       "\n",
       "<iframe \n",
       "\tsrc=\"https://forms.office.com/Pages/ResponsePage.aspx?id=MHEXIi9k2UGSEXQjetVofRzD77LVqLNIpscq-NmZsrdUN0tZTU9XVzJCTlM2TTdDWkdZWlgzRkVNVi4u\" \n",
       "\twidth=\"80%\" \n",
       "\theight=\"1200px\" \n",
       "\tframeborder=\"0\" \n",
       "\tmarginheight=\"0\" \n",
       "\tmarginwidth=\"0\">\n",
       "\tLoading...\n",
       "</iframe>\n"
      ],
      "text/plain": [
       "<IPython.core.display.HTML object>"
      ]
     },
     "execution_count": 1,
     "metadata": {},
     "output_type": "execute_result"
    }
   ],
   "source": [
    "from IPython.display import HTML\n",
    "HTML(\n",
    "\"\"\"\n",
    "<iframe \n",
    "\tsrc=\"https://forms.office.com/Pages/ResponsePage.aspx?id=MHEXIi9k2UGSEXQjetVofRzD77LVqLNIpscq-NmZsrdUN0tZTU9XVzJCTlM2TTdDWkdZWlgzRkVNVi4u\" \n",
    "\twidth=\"80%\" \n",
    "\theight=\"1200px\" \n",
    "\tframeborder=\"0\" \n",
    "\tmarginheight=\"0\" \n",
    "\tmarginwidth=\"0\">\n",
    "\tLoading...\n",
    "</iframe>\n",
    "\"\"\"\n",
    ")"
   ]
  },
  {
   "cell_type": "markdown",
   "metadata": {},
   "source": [
    "---\n",
    "\n",
    "### Congratulations, you're done!\n",
    "\n",
    "Submit this assignment by uploading it to the course Desire2Learn web page.  Go to the \"Homework Assignments\" section, find the submission folder link for Homework #1, and upload it there."
   ]
  }
 ],
 "metadata": {
  "kernelspec": {
   "display_name": "Python 3",
   "language": "python",
   "name": "python3"
  },
  "language_info": {
   "codemirror_mode": {
    "name": "ipython",
    "version": 3
   },
   "file_extension": ".py",
   "mimetype": "text/x-python",
   "name": "python",
   "nbconvert_exporter": "python",
   "pygments_lexer": "ipython3",
   "version": "3.8.5"
  }
 },
 "nbformat": 4,
 "nbformat_minor": 4
}
